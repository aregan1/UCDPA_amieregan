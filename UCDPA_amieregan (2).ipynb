{
 "cells": [
  {
   "cell_type": "code",
   "execution_count": 28,
   "id": "69a4facf-6ee2-4940-bcb4-1bd713084042",
   "metadata": {},
   "outputs": [
    {
     "name": "stdout",
     "output_type": "stream",
     "text": [
      "hello\n"
     ]
    }
   ],
   "source": [
    "print ('hello')\n"
   ]
  },
  {
   "cell_type": "code",
   "execution_count": 29,
   "id": "506a8f7f-7d1f-43f4-aefc-5f2ec04cdb7f",
   "metadata": {},
   "outputs": [],
   "source": [
    "import numpy as np"
   ]
  },
  {
   "cell_type": "code",
   "execution_count": 30,
   "id": "a307bb18-eb0f-4dbd-8a40-aff5f9629d63",
   "metadata": {},
   "outputs": [],
   "source": [
    "import pandas as pd"
   ]
  },
  {
   "cell_type": "code",
   "execution_count": 31,
   "id": "2b8d0882-8724-4679-9933-aabad091b256",
   "metadata": {},
   "outputs": [],
   "source": [
    "import matplotlib.pyplot as plt"
   ]
  },
  {
   "cell_type": "code",
   "execution_count": 32,
   "id": "a5950ad9-1d5f-4870-9b23-f91c34da0c39",
   "metadata": {},
   "outputs": [],
   "source": [
    "#import of main csv file (Q2a)\n",
    "dataset = pd.read_csv (\"lifeExpectancyAtBirth.csv\", index_col = 0)"
   ]
  },
  {
   "cell_type": "code",
   "execution_count": 33,
   "id": "60f5a81d-f727-4557-b6b5-59460f2703b4",
   "metadata": {},
   "outputs": [
    {
     "data": {
      "text/html": [
       "<div>\n",
       "<style scoped>\n",
       "    .dataframe tbody tr th:only-of-type {\n",
       "        vertical-align: middle;\n",
       "    }\n",
       "\n",
       "    .dataframe tbody tr th {\n",
       "        vertical-align: top;\n",
       "    }\n",
       "\n",
       "    .dataframe thead th {\n",
       "        text-align: right;\n",
       "    }\n",
       "</style>\n",
       "<table border=\"1\" class=\"dataframe\">\n",
       "  <thead>\n",
       "    <tr style=\"text-align: right;\">\n",
       "      <th></th>\n",
       "      <th>Period</th>\n",
       "      <th>Indicator</th>\n",
       "      <th>Gender</th>\n",
       "      <th>Age (years)</th>\n",
       "    </tr>\n",
       "    <tr>\n",
       "      <th>Location</th>\n",
       "      <th></th>\n",
       "      <th></th>\n",
       "      <th></th>\n",
       "      <th></th>\n",
       "    </tr>\n",
       "  </thead>\n",
       "  <tbody>\n",
       "    <tr>\n",
       "      <th>Afghanistan</th>\n",
       "      <td>2019</td>\n",
       "      <td>Life expectancy at birth (years)</td>\n",
       "      <td>Both sexes</td>\n",
       "      <td>63.21</td>\n",
       "    </tr>\n",
       "    <tr>\n",
       "      <th>Afghanistan</th>\n",
       "      <td>2019</td>\n",
       "      <td>Life expectancy at birth (years)</td>\n",
       "      <td>Male</td>\n",
       "      <td>63.29</td>\n",
       "    </tr>\n",
       "    <tr>\n",
       "      <th>Afghanistan</th>\n",
       "      <td>2019</td>\n",
       "      <td>Life expectancy at birth (years)</td>\n",
       "      <td>Female</td>\n",
       "      <td>63.16</td>\n",
       "    </tr>\n",
       "    <tr>\n",
       "      <th>Afghanistan</th>\n",
       "      <td>2015</td>\n",
       "      <td>Life expectancy at birth (years)</td>\n",
       "      <td>Both sexes</td>\n",
       "      <td>61.65</td>\n",
       "    </tr>\n",
       "    <tr>\n",
       "      <th>Afghanistan</th>\n",
       "      <td>2015</td>\n",
       "      <td>Life expectancy at birth (years)</td>\n",
       "      <td>Male</td>\n",
       "      <td>61.04</td>\n",
       "    </tr>\n",
       "  </tbody>\n",
       "</table>\n",
       "</div>"
      ],
      "text/plain": [
       "             Period                         Indicator      Gender  Age (years)\n",
       "Location                                                                      \n",
       "Afghanistan    2019  Life expectancy at birth (years)  Both sexes        63.21\n",
       "Afghanistan    2019  Life expectancy at birth (years)        Male        63.29\n",
       "Afghanistan    2019  Life expectancy at birth (years)      Female        63.16\n",
       "Afghanistan    2015  Life expectancy at birth (years)  Both sexes        61.65\n",
       "Afghanistan    2015  Life expectancy at birth (years)        Male        61.04"
      ]
     },
     "execution_count": 33,
     "metadata": {},
     "output_type": "execute_result"
    }
   ],
   "source": [
    "#checking import of file is correct\n",
    "dataset.head ()"
   ]
  },
  {
   "cell_type": "code",
   "execution_count": 34,
   "id": "ab386638-c60e-4969-8e68-bc80bcafb505",
   "metadata": {},
   "outputs": [
    {
     "data": {
      "text/html": [
       "<div>\n",
       "<style scoped>\n",
       "    .dataframe tbody tr th:only-of-type {\n",
       "        vertical-align: middle;\n",
       "    }\n",
       "\n",
       "    .dataframe tbody tr th {\n",
       "        vertical-align: top;\n",
       "    }\n",
       "\n",
       "    .dataframe thead th {\n",
       "        text-align: right;\n",
       "    }\n",
       "</style>\n",
       "<table border=\"1\" class=\"dataframe\">\n",
       "  <thead>\n",
       "    <tr style=\"text-align: right;\">\n",
       "      <th></th>\n",
       "      <th>Period</th>\n",
       "      <th>Indicator</th>\n",
       "      <th>Gender</th>\n",
       "      <th>Age (years)</th>\n",
       "    </tr>\n",
       "    <tr>\n",
       "      <th>Location</th>\n",
       "      <th></th>\n",
       "      <th></th>\n",
       "      <th></th>\n",
       "      <th></th>\n",
       "    </tr>\n",
       "  </thead>\n",
       "  <tbody>\n",
       "    <tr>\n",
       "      <th>Zimbabwe</th>\n",
       "      <td>2010</td>\n",
       "      <td>Life expectancy at birth (years)</td>\n",
       "      <td>Male</td>\n",
       "      <td>49.58</td>\n",
       "    </tr>\n",
       "    <tr>\n",
       "      <th>Zimbabwe</th>\n",
       "      <td>2010</td>\n",
       "      <td>Life expectancy at birth (years)</td>\n",
       "      <td>Female</td>\n",
       "      <td>53.21</td>\n",
       "    </tr>\n",
       "    <tr>\n",
       "      <th>Zimbabwe</th>\n",
       "      <td>2000</td>\n",
       "      <td>Life expectancy at birth (years)</td>\n",
       "      <td>Both sexes</td>\n",
       "      <td>46.57</td>\n",
       "    </tr>\n",
       "    <tr>\n",
       "      <th>Zimbabwe</th>\n",
       "      <td>2000</td>\n",
       "      <td>Life expectancy at birth (years)</td>\n",
       "      <td>Male</td>\n",
       "      <td>45.15</td>\n",
       "    </tr>\n",
       "    <tr>\n",
       "      <th>Zimbabwe</th>\n",
       "      <td>2000</td>\n",
       "      <td>Life expectancy at birth (years)</td>\n",
       "      <td>Female</td>\n",
       "      <td>48.12</td>\n",
       "    </tr>\n",
       "  </tbody>\n",
       "</table>\n",
       "</div>"
      ],
      "text/plain": [
       "          Period                         Indicator      Gender  Age (years)\n",
       "Location                                                                   \n",
       "Zimbabwe    2010  Life expectancy at birth (years)        Male        49.58\n",
       "Zimbabwe    2010  Life expectancy at birth (years)      Female        53.21\n",
       "Zimbabwe    2000  Life expectancy at birth (years)  Both sexes        46.57\n",
       "Zimbabwe    2000  Life expectancy at birth (years)        Male        45.15\n",
       "Zimbabwe    2000  Life expectancy at birth (years)      Female        48.12"
      ]
     },
     "execution_count": 34,
     "metadata": {},
     "output_type": "execute_result"
    }
   ],
   "source": [
    "dataset.tail ()"
   ]
  },
  {
   "cell_type": "code",
   "execution_count": 35,
   "id": "ca424e02-1b8e-4afc-8f3e-0875be8978b3",
   "metadata": {},
   "outputs": [],
   "source": [
    "#renaming file\n",
    "life_expectancy_birth = pd.read_csv (\"lifeExpectancyAtBirth.csv\", index_col = 0)"
   ]
  },
  {
   "cell_type": "code",
   "execution_count": 36,
   "id": "23122dd4-85e3-4373-9efe-7882b7b407f8",
   "metadata": {},
   "outputs": [
    {
     "name": "stdout",
     "output_type": "stream",
     "text": [
      "life_expectancy_birth\n"
     ]
    }
   ],
   "source": [
    "print (\"life_expectancy_birth\")"
   ]
  },
  {
   "cell_type": "code",
   "execution_count": 37,
   "id": "98179c23-3506-4d83-83c2-be5ec2bf70a3",
   "metadata": {},
   "outputs": [
    {
     "name": "stdout",
     "output_type": "stream",
     "text": [
      "             Period                         Indicator      Gender  Age (years)\n",
      "Location                                                                      \n",
      "Afghanistan    2019  Life expectancy at birth (years)  Both sexes        63.21\n",
      "Afghanistan    2019  Life expectancy at birth (years)        Male        63.29\n",
      "Afghanistan    2019  Life expectancy at birth (years)      Female        63.16\n",
      "Afghanistan    2015  Life expectancy at birth (years)  Both sexes        61.65\n",
      "Afghanistan    2015  Life expectancy at birth (years)        Male        61.04\n",
      "...             ...                               ...         ...          ...\n",
      "Zimbabwe       2010  Life expectancy at birth (years)        Male        49.58\n",
      "Zimbabwe       2010  Life expectancy at birth (years)      Female        53.21\n",
      "Zimbabwe       2000  Life expectancy at birth (years)  Both sexes        46.57\n",
      "Zimbabwe       2000  Life expectancy at birth (years)        Male        45.15\n",
      "Zimbabwe       2000  Life expectancy at birth (years)      Female        48.12\n",
      "\n",
      "[2197 rows x 4 columns]\n"
     ]
    }
   ],
   "source": [
    "print (life_expectancy_birth)"
   ]
  },
  {
   "cell_type": "code",
   "execution_count": 38,
   "id": "5a80c21b-7a6a-4d4f-a506-948a47bae18f",
   "metadata": {},
   "outputs": [],
   "source": [
    "# Second CSV for dataframe merge\n",
    "dataset = pd.read_csv (\"basicHandWashing.csv\", index_col = 0)"
   ]
  },
  {
   "cell_type": "code",
   "execution_count": 39,
   "id": "756f27c1-356d-4767-87f9-4b380baa8769",
   "metadata": {},
   "outputs": [
    {
     "data": {
      "text/html": [
       "<div>\n",
       "<style scoped>\n",
       "    .dataframe tbody tr th:only-of-type {\n",
       "        vertical-align: middle;\n",
       "    }\n",
       "\n",
       "    .dataframe tbody tr th {\n",
       "        vertical-align: top;\n",
       "    }\n",
       "\n",
       "    .dataframe thead th {\n",
       "        text-align: right;\n",
       "    }\n",
       "</style>\n",
       "<table border=\"1\" class=\"dataframe\">\n",
       "  <thead>\n",
       "    <tr style=\"text-align: right;\">\n",
       "      <th></th>\n",
       "      <th>Indicator</th>\n",
       "      <th>Period</th>\n",
       "      <th>Dim1</th>\n",
       "      <th>First Tooltip</th>\n",
       "    </tr>\n",
       "    <tr>\n",
       "      <th>Location</th>\n",
       "      <th></th>\n",
       "      <th></th>\n",
       "      <th></th>\n",
       "      <th></th>\n",
       "    </tr>\n",
       "  </thead>\n",
       "  <tbody>\n",
       "    <tr>\n",
       "      <th>Afghanistan</th>\n",
       "      <td>Population with basic handwashing facilities a...</td>\n",
       "      <td>2017</td>\n",
       "      <td>Total</td>\n",
       "      <td>37.75</td>\n",
       "    </tr>\n",
       "    <tr>\n",
       "      <th>Afghanistan</th>\n",
       "      <td>Population with basic handwashing facilities a...</td>\n",
       "      <td>2017</td>\n",
       "      <td>Urban</td>\n",
       "      <td>63.58</td>\n",
       "    </tr>\n",
       "    <tr>\n",
       "      <th>Afghanistan</th>\n",
       "      <td>Population with basic handwashing facilities a...</td>\n",
       "      <td>2017</td>\n",
       "      <td>Rural</td>\n",
       "      <td>29.02</td>\n",
       "    </tr>\n",
       "    <tr>\n",
       "      <th>Afghanistan</th>\n",
       "      <td>Population with basic handwashing facilities a...</td>\n",
       "      <td>2016</td>\n",
       "      <td>Total</td>\n",
       "      <td>37.67</td>\n",
       "    </tr>\n",
       "    <tr>\n",
       "      <th>Afghanistan</th>\n",
       "      <td>Population with basic handwashing facilities a...</td>\n",
       "      <td>2016</td>\n",
       "      <td>Urban</td>\n",
       "      <td>63.58</td>\n",
       "    </tr>\n",
       "  </tbody>\n",
       "</table>\n",
       "</div>"
      ],
      "text/plain": [
       "                                                     Indicator  Period   Dim1  \\\n",
       "Location                                                                        \n",
       "Afghanistan  Population with basic handwashing facilities a...    2017  Total   \n",
       "Afghanistan  Population with basic handwashing facilities a...    2017  Urban   \n",
       "Afghanistan  Population with basic handwashing facilities a...    2017  Rural   \n",
       "Afghanistan  Population with basic handwashing facilities a...    2016  Total   \n",
       "Afghanistan  Population with basic handwashing facilities a...    2016  Urban   \n",
       "\n",
       "             First Tooltip  \n",
       "Location                    \n",
       "Afghanistan          37.75  \n",
       "Afghanistan          63.58  \n",
       "Afghanistan          29.02  \n",
       "Afghanistan          37.67  \n",
       "Afghanistan          63.58  "
      ]
     },
     "execution_count": 39,
     "metadata": {},
     "output_type": "execute_result"
    }
   ],
   "source": [
    "dataset.head ()"
   ]
  },
  {
   "cell_type": "code",
   "execution_count": 40,
   "id": "7bd16160-79a7-4ca6-83a1-e42ee35b3dd7",
   "metadata": {},
   "outputs": [
    {
     "data": {
      "text/html": [
       "<div>\n",
       "<style scoped>\n",
       "    .dataframe tbody tr th:only-of-type {\n",
       "        vertical-align: middle;\n",
       "    }\n",
       "\n",
       "    .dataframe tbody tr th {\n",
       "        vertical-align: top;\n",
       "    }\n",
       "\n",
       "    .dataframe thead th {\n",
       "        text-align: right;\n",
       "    }\n",
       "</style>\n",
       "<table border=\"1\" class=\"dataframe\">\n",
       "  <thead>\n",
       "    <tr style=\"text-align: right;\">\n",
       "      <th></th>\n",
       "      <th>Indicator</th>\n",
       "      <th>Period</th>\n",
       "      <th>Dim1</th>\n",
       "      <th>First Tooltip</th>\n",
       "    </tr>\n",
       "    <tr>\n",
       "      <th>Location</th>\n",
       "      <th></th>\n",
       "      <th></th>\n",
       "      <th></th>\n",
       "      <th></th>\n",
       "    </tr>\n",
       "  </thead>\n",
       "  <tbody>\n",
       "    <tr>\n",
       "      <th>Zimbabwe</th>\n",
       "      <td>Population with basic handwashing facilities a...</td>\n",
       "      <td>2012</td>\n",
       "      <td>Urban</td>\n",
       "      <td>48.54</td>\n",
       "    </tr>\n",
       "    <tr>\n",
       "      <th>Zimbabwe</th>\n",
       "      <td>Population with basic handwashing facilities a...</td>\n",
       "      <td>2012</td>\n",
       "      <td>Rural</td>\n",
       "      <td>31.20</td>\n",
       "    </tr>\n",
       "    <tr>\n",
       "      <th>Zimbabwe</th>\n",
       "      <td>Population with basic handwashing facilities a...</td>\n",
       "      <td>2011</td>\n",
       "      <td>Total</td>\n",
       "      <td>36.93</td>\n",
       "    </tr>\n",
       "    <tr>\n",
       "      <th>Zimbabwe</th>\n",
       "      <td>Population with basic handwashing facilities a...</td>\n",
       "      <td>2011</td>\n",
       "      <td>Urban</td>\n",
       "      <td>48.54</td>\n",
       "    </tr>\n",
       "    <tr>\n",
       "      <th>Zimbabwe</th>\n",
       "      <td>Population with basic handwashing facilities a...</td>\n",
       "      <td>2011</td>\n",
       "      <td>Rural</td>\n",
       "      <td>31.20</td>\n",
       "    </tr>\n",
       "  </tbody>\n",
       "</table>\n",
       "</div>"
      ],
      "text/plain": [
       "                                                  Indicator  Period   Dim1  \\\n",
       "Location                                                                     \n",
       "Zimbabwe  Population with basic handwashing facilities a...    2012  Urban   \n",
       "Zimbabwe  Population with basic handwashing facilities a...    2012  Rural   \n",
       "Zimbabwe  Population with basic handwashing facilities a...    2011  Total   \n",
       "Zimbabwe  Population with basic handwashing facilities a...    2011  Urban   \n",
       "Zimbabwe  Population with basic handwashing facilities a...    2011  Rural   \n",
       "\n",
       "          First Tooltip  \n",
       "Location                 \n",
       "Zimbabwe          48.54  \n",
       "Zimbabwe          31.20  \n",
       "Zimbabwe          36.93  \n",
       "Zimbabwe          48.54  \n",
       "Zimbabwe          31.20  "
      ]
     },
     "execution_count": 40,
     "metadata": {},
     "output_type": "execute_result"
    }
   ],
   "source": [
    "dataset.tail ()"
   ]
  },
  {
   "cell_type": "code",
   "execution_count": 41,
   "id": "959ea5ed-cd82-4d47-86a3-4a9cf37d304b",
   "metadata": {},
   "outputs": [],
   "source": [
    "#renaming file\n",
    "hand_wash = pd.read_csv (\"basicHandWashing.csv\")"
   ]
  },
  {
   "cell_type": "code",
   "execution_count": 42,
   "id": "b367d065-2d2e-4e66-bcf8-98184b50e264",
   "metadata": {},
   "outputs": [
    {
     "name": "stdout",
     "output_type": "stream",
     "text": [
      "         Location                                          Indicator  Period  \\\n",
      "0     Afghanistan  Population with basic handwashing facilities a...    2017   \n",
      "1     Afghanistan  Population with basic handwashing facilities a...    2017   \n",
      "2     Afghanistan  Population with basic handwashing facilities a...    2017   \n",
      "3     Afghanistan  Population with basic handwashing facilities a...    2016   \n",
      "4     Afghanistan  Population with basic handwashing facilities a...    2016   \n",
      "...           ...                                                ...     ...   \n",
      "2721     Zimbabwe  Population with basic handwashing facilities a...    2012   \n",
      "2722     Zimbabwe  Population with basic handwashing facilities a...    2012   \n",
      "2723     Zimbabwe  Population with basic handwashing facilities a...    2011   \n",
      "2724     Zimbabwe  Population with basic handwashing facilities a...    2011   \n",
      "2725     Zimbabwe  Population with basic handwashing facilities a...    2011   \n",
      "\n",
      "       Dim1  First Tooltip  \n",
      "0     Total          37.75  \n",
      "1     Urban          63.58  \n",
      "2     Rural          29.02  \n",
      "3     Total          37.67  \n",
      "4     Urban          63.58  \n",
      "...     ...            ...  \n",
      "2721  Urban          48.54  \n",
      "2722  Rural          31.20  \n",
      "2723  Total          36.93  \n",
      "2724  Urban          48.54  \n",
      "2725  Rural          31.20  \n",
      "\n",
      "[2726 rows x 5 columns]\n"
     ]
    }
   ],
   "source": [
    "print (hand_wash)"
   ]
  },
  {
   "cell_type": "code",
   "execution_count": 43,
   "id": "1d38fa8c-e0f6-477c-a07e-57565829f2a4",
   "metadata": {},
   "outputs": [
    {
     "data": {
      "text/html": [
       "<div>\n",
       "<style scoped>\n",
       "    .dataframe tbody tr th:only-of-type {\n",
       "        vertical-align: middle;\n",
       "    }\n",
       "\n",
       "    .dataframe tbody tr th {\n",
       "        vertical-align: top;\n",
       "    }\n",
       "\n",
       "    .dataframe thead th {\n",
       "        text-align: right;\n",
       "    }\n",
       "</style>\n",
       "<table border=\"1\" class=\"dataframe\">\n",
       "  <thead>\n",
       "    <tr style=\"text-align: right;\">\n",
       "      <th></th>\n",
       "      <th>Period</th>\n",
       "      <th>Indicator</th>\n",
       "      <th>Gender</th>\n",
       "      <th>Age (years)</th>\n",
       "    </tr>\n",
       "    <tr>\n",
       "      <th>Location</th>\n",
       "      <th></th>\n",
       "      <th></th>\n",
       "      <th></th>\n",
       "      <th></th>\n",
       "    </tr>\n",
       "  </thead>\n",
       "  <tbody>\n",
       "    <tr>\n",
       "      <th>Ireland</th>\n",
       "      <td>2019</td>\n",
       "      <td>Life expectancy at birth (years)</td>\n",
       "      <td>Both sexes</td>\n",
       "      <td>81.84</td>\n",
       "    </tr>\n",
       "    <tr>\n",
       "      <th>Ireland</th>\n",
       "      <td>2019</td>\n",
       "      <td>Life expectancy at birth (years)</td>\n",
       "      <td>Male</td>\n",
       "      <td>80.20</td>\n",
       "    </tr>\n",
       "    <tr>\n",
       "      <th>Ireland</th>\n",
       "      <td>2019</td>\n",
       "      <td>Life expectancy at birth (years)</td>\n",
       "      <td>Female</td>\n",
       "      <td>83.48</td>\n",
       "    </tr>\n",
       "    <tr>\n",
       "      <th>Ireland</th>\n",
       "      <td>2015</td>\n",
       "      <td>Life expectancy at birth (years)</td>\n",
       "      <td>Both sexes</td>\n",
       "      <td>81.14</td>\n",
       "    </tr>\n",
       "    <tr>\n",
       "      <th>Ireland</th>\n",
       "      <td>2015</td>\n",
       "      <td>Life expectancy at birth (years)</td>\n",
       "      <td>Male</td>\n",
       "      <td>79.33</td>\n",
       "    </tr>\n",
       "    <tr>\n",
       "      <th>Ireland</th>\n",
       "      <td>2015</td>\n",
       "      <td>Life expectancy at birth (years)</td>\n",
       "      <td>Female</td>\n",
       "      <td>82.93</td>\n",
       "    </tr>\n",
       "    <tr>\n",
       "      <th>Ireland</th>\n",
       "      <td>2010</td>\n",
       "      <td>Life expectancy at birth (years)</td>\n",
       "      <td>Both sexes</td>\n",
       "      <td>80.41</td>\n",
       "    </tr>\n",
       "    <tr>\n",
       "      <th>Ireland</th>\n",
       "      <td>2010</td>\n",
       "      <td>Life expectancy at birth (years)</td>\n",
       "      <td>Male</td>\n",
       "      <td>78.33</td>\n",
       "    </tr>\n",
       "    <tr>\n",
       "      <th>Ireland</th>\n",
       "      <td>2010</td>\n",
       "      <td>Life expectancy at birth (years)</td>\n",
       "      <td>Female</td>\n",
       "      <td>82.44</td>\n",
       "    </tr>\n",
       "    <tr>\n",
       "      <th>Ireland</th>\n",
       "      <td>2000</td>\n",
       "      <td>Life expectancy at birth (years)</td>\n",
       "      <td>Both sexes</td>\n",
       "      <td>76.41</td>\n",
       "    </tr>\n",
       "    <tr>\n",
       "      <th>Ireland</th>\n",
       "      <td>2000</td>\n",
       "      <td>Life expectancy at birth (years)</td>\n",
       "      <td>Male</td>\n",
       "      <td>73.84</td>\n",
       "    </tr>\n",
       "    <tr>\n",
       "      <th>Ireland</th>\n",
       "      <td>2000</td>\n",
       "      <td>Life expectancy at birth (years)</td>\n",
       "      <td>Female</td>\n",
       "      <td>79.02</td>\n",
       "    </tr>\n",
       "  </tbody>\n",
       "</table>\n",
       "</div>"
      ],
      "text/plain": [
       "          Period                         Indicator      Gender  Age (years)\n",
       "Location                                                                   \n",
       "Ireland     2019  Life expectancy at birth (years)  Both sexes        81.84\n",
       "Ireland     2019  Life expectancy at birth (years)        Male        80.20\n",
       "Ireland     2019  Life expectancy at birth (years)      Female        83.48\n",
       "Ireland     2015  Life expectancy at birth (years)  Both sexes        81.14\n",
       "Ireland     2015  Life expectancy at birth (years)        Male        79.33\n",
       "Ireland     2015  Life expectancy at birth (years)      Female        82.93\n",
       "Ireland     2010  Life expectancy at birth (years)  Both sexes        80.41\n",
       "Ireland     2010  Life expectancy at birth (years)        Male        78.33\n",
       "Ireland     2010  Life expectancy at birth (years)      Female        82.44\n",
       "Ireland     2000  Life expectancy at birth (years)  Both sexes        76.41\n",
       "Ireland     2000  Life expectancy at birth (years)        Male        73.84\n",
       "Ireland     2000  Life expectancy at birth (years)      Female        79.02"
      ]
     },
     "execution_count": 43,
     "metadata": {},
     "output_type": "execute_result"
    }
   ],
   "source": [
    "#showing dataframe row access for Ireland only\n",
    "life_expectancy_birth[949 :961]"
   ]
  },
  {
   "cell_type": "code",
   "execution_count": 44,
   "id": "cfd47cec-fbca-4dba-a05c-b6a739b8aac2",
   "metadata": {},
   "outputs": [
    {
     "name": "stdout",
     "output_type": "stream",
     "text": [
      "Period         0\n",
      "Indicator      0\n",
      "Gender         0\n",
      "Age (years)    0\n",
      "dtype: int64\n"
     ]
    }
   ],
   "source": [
    "# data cleaning 3b\n",
    "missing_values_count = life_expectancy_birth.isnull().sum()\n",
    "print(missing_values_count[0:4])"
   ]
  },
  {
   "cell_type": "code",
   "execution_count": 45,
   "id": "210a7e91-54ff-42e9-9ca1-dabb421d668f",
   "metadata": {},
   "outputs": [
    {
     "name": "stdout",
     "output_type": "stream",
     "text": [
      "Location     0\n",
      "Indicator    0\n",
      "Period       0\n",
      "Dim1         0\n",
      "dtype: int64\n"
     ]
    }
   ],
   "source": [
    "# data cleaning 3b\n",
    "missing_values_count = hand_wash.isnull().sum()\n",
    "print(missing_values_count[0:4])"
   ]
  },
  {
   "cell_type": "code",
   "execution_count": 46,
   "id": "652ec2e4-5709-42c1-979f-a76cb6d6d2d3",
   "metadata": {},
   "outputs": [],
   "source": [
    "#data cleaning 3b not really required\n",
    "cleaned_data = life_expectancy_birth.fillna(0)"
   ]
  },
  {
   "cell_type": "code",
   "execution_count": 47,
   "id": "56ccd82c-ef8c-493e-b9a6-475ce187a187",
   "metadata": {},
   "outputs": [],
   "source": [
    "#data cleaning 3b not really required\n",
    "cleaned_data = hand_wash.fillna(0)"
   ]
  },
  {
   "cell_type": "code",
   "execution_count": 48,
   "id": "ff24d2b3-81d2-4e3c-85cd-9c194181ebf1",
   "metadata": {},
   "outputs": [],
   "source": [
    "# grouping of data Q3a\n",
    "gender_avg = life_expectancy_birth.groupby (['Gender']).mean ('Age (years)')"
   ]
  },
  {
   "cell_type": "code",
   "execution_count": 49,
   "id": "84cad612-b14e-4e7e-bd8f-8f09fca390df",
   "metadata": {},
   "outputs": [
    {
     "name": "stdout",
     "output_type": "stream",
     "text": [
      "                 Period  Age (years)\n",
      "Gender                              \n",
      "Both sexes  2010.875853    70.215784\n",
      "Female      2011.000000    72.694057\n",
      "Male        2011.000000    67.769167\n"
     ]
    }
   ],
   "source": [
    "print (gender_avg)"
   ]
  },
  {
   "cell_type": "code",
   "execution_count": 50,
   "id": "1a45c150-e910-4d76-be30-569ceff319b5",
   "metadata": {},
   "outputs": [],
   "source": [
    "year_avg = life_expectancy_birth.groupby('Period').mean('Age (years)')"
   ]
  },
  {
   "cell_type": "code",
   "execution_count": 51,
   "id": "d8cec2b0-275f-4292-b37c-1ab31733ea11",
   "metadata": {},
   "outputs": [
    {
     "name": "stdout",
     "output_type": "stream",
     "text": [
      "        Age (years)\n",
      "Period             \n",
      "1920      82.810000\n",
      "2000      66.778707\n",
      "2010      70.027705\n",
      "2015      71.518579\n",
      "2019      72.557413\n"
     ]
    }
   ],
   "source": [
    "print (year_avg)"
   ]
  },
  {
   "cell_type": "code",
   "execution_count": 52,
   "id": "e85639f2-9c07-4c73-8b70-4ef48343a6c3",
   "metadata": {},
   "outputs": [
    {
     "data": {
      "text/plain": [
       "array([2019, 2015, 2010, 2000, 1920], dtype=int64)"
      ]
     },
     "execution_count": 52,
     "metadata": {},
     "output_type": "execute_result"
    }
   ],
   "source": [
    "#sort to see what years we have data for\n",
    "life_expectancy_birth['Period'].unique()"
   ]
  },
  {
   "cell_type": "code",
   "execution_count": 53,
   "id": "34679d3c-766b-49f1-8526-54bfd52bb19d",
   "metadata": {},
   "outputs": [
    {
     "data": {
      "text/plain": [
       "array([2017, 2016, 2015, 2014, 2013, 2012, 2011, 2010, 2009, 2008, 2007,\n",
       "       2006, 2005, 2004, 2003, 2002, 2001, 2000], dtype=int64)"
      ]
     },
     "execution_count": 53,
     "metadata": {},
     "output_type": "execute_result"
    }
   ],
   "source": [
    "#2015 and 2010 present in both data sets \n",
    "hand_wash['Period'].unique()"
   ]
  },
  {
   "cell_type": "code",
   "execution_count": 54,
   "id": "daac2fe8-2b67-4eb8-a375-efdd5ce7bfd2",
   "metadata": {},
   "outputs": [
    {
     "data": {
      "text/html": [
       "<div>\n",
       "<style scoped>\n",
       "    .dataframe tbody tr th:only-of-type {\n",
       "        vertical-align: middle;\n",
       "    }\n",
       "\n",
       "    .dataframe tbody tr th {\n",
       "        vertical-align: top;\n",
       "    }\n",
       "\n",
       "    .dataframe thead th {\n",
       "        text-align: right;\n",
       "    }\n",
       "</style>\n",
       "<table border=\"1\" class=\"dataframe\">\n",
       "  <thead>\n",
       "    <tr style=\"text-align: right;\">\n",
       "      <th></th>\n",
       "      <th>Period</th>\n",
       "      <th>Indicator</th>\n",
       "      <th>Gender</th>\n",
       "      <th>Age (years)</th>\n",
       "    </tr>\n",
       "    <tr>\n",
       "      <th>Location</th>\n",
       "      <th></th>\n",
       "      <th></th>\n",
       "      <th></th>\n",
       "      <th></th>\n",
       "    </tr>\n",
       "  </thead>\n",
       "  <tbody>\n",
       "    <tr>\n",
       "      <th>Albania</th>\n",
       "      <td>2019</td>\n",
       "      <td>Life expectancy at birth (years)</td>\n",
       "      <td>Both sexes</td>\n",
       "      <td>78.00</td>\n",
       "    </tr>\n",
       "    <tr>\n",
       "      <th>Albania</th>\n",
       "      <td>2019</td>\n",
       "      <td>Life expectancy at birth (years)</td>\n",
       "      <td>Male</td>\n",
       "      <td>76.25</td>\n",
       "    </tr>\n",
       "    <tr>\n",
       "      <th>Albania</th>\n",
       "      <td>2019</td>\n",
       "      <td>Life expectancy at birth (years)</td>\n",
       "      <td>Female</td>\n",
       "      <td>79.91</td>\n",
       "    </tr>\n",
       "    <tr>\n",
       "      <th>Albania</th>\n",
       "      <td>2015</td>\n",
       "      <td>Life expectancy at birth (years)</td>\n",
       "      <td>Both sexes</td>\n",
       "      <td>77.84</td>\n",
       "    </tr>\n",
       "    <tr>\n",
       "      <th>Albania</th>\n",
       "      <td>2015</td>\n",
       "      <td>Life expectancy at birth (years)</td>\n",
       "      <td>Male</td>\n",
       "      <td>76.10</td>\n",
       "    </tr>\n",
       "    <tr>\n",
       "      <th>Albania</th>\n",
       "      <td>2015</td>\n",
       "      <td>Life expectancy at birth (years)</td>\n",
       "      <td>Female</td>\n",
       "      <td>79.69</td>\n",
       "    </tr>\n",
       "    <tr>\n",
       "      <th>Albania</th>\n",
       "      <td>2010</td>\n",
       "      <td>Life expectancy at birth (years)</td>\n",
       "      <td>Both sexes</td>\n",
       "      <td>76.25</td>\n",
       "    </tr>\n",
       "    <tr>\n",
       "      <th>Albania</th>\n",
       "      <td>2010</td>\n",
       "      <td>Life expectancy at birth (years)</td>\n",
       "      <td>Male</td>\n",
       "      <td>74.23</td>\n",
       "    </tr>\n",
       "    <tr>\n",
       "      <th>Albania</th>\n",
       "      <td>2010</td>\n",
       "      <td>Life expectancy at birth (years)</td>\n",
       "      <td>Female</td>\n",
       "      <td>78.31</td>\n",
       "    </tr>\n",
       "    <tr>\n",
       "      <th>Albania</th>\n",
       "      <td>2000</td>\n",
       "      <td>Life expectancy at birth (years)</td>\n",
       "      <td>Both sexes</td>\n",
       "      <td>73.55</td>\n",
       "    </tr>\n",
       "    <tr>\n",
       "      <th>Albania</th>\n",
       "      <td>2000</td>\n",
       "      <td>Life expectancy at birth (years)</td>\n",
       "      <td>Male</td>\n",
       "      <td>70.65</td>\n",
       "    </tr>\n",
       "    <tr>\n",
       "      <th>Albania</th>\n",
       "      <td>2000</td>\n",
       "      <td>Life expectancy at birth (years)</td>\n",
       "      <td>Female</td>\n",
       "      <td>76.92</td>\n",
       "    </tr>\n",
       "  </tbody>\n",
       "</table>\n",
       "</div>"
      ],
      "text/plain": [
       "          Period                         Indicator      Gender  Age (years)\n",
       "Location                                                                   \n",
       "Albania     2019  Life expectancy at birth (years)  Both sexes        78.00\n",
       "Albania     2019  Life expectancy at birth (years)        Male        76.25\n",
       "Albania     2019  Life expectancy at birth (years)      Female        79.91\n",
       "Albania     2015  Life expectancy at birth (years)  Both sexes        77.84\n",
       "Albania     2015  Life expectancy at birth (years)        Male        76.10\n",
       "Albania     2015  Life expectancy at birth (years)      Female        79.69\n",
       "Albania     2010  Life expectancy at birth (years)  Both sexes        76.25\n",
       "Albania     2010  Life expectancy at birth (years)        Male        74.23\n",
       "Albania     2010  Life expectancy at birth (years)      Female        78.31\n",
       "Albania     2000  Life expectancy at birth (years)  Both sexes        73.55\n",
       "Albania     2000  Life expectancy at birth (years)        Male        70.65\n",
       "Albania     2000  Life expectancy at birth (years)      Female        76.92"
      ]
     },
     "execution_count": 54,
     "metadata": {},
     "output_type": "execute_result"
    }
   ],
   "source": [
    "#Use loc to show all data for Albania\n",
    "life_expectancy_birth.loc['Albania', :]"
   ]
  },
  {
   "cell_type": "code",
   "execution_count": 55,
   "id": "f84f4fbd-8a49-4c39-a926-4294cd0d3f66",
   "metadata": {},
   "outputs": [
    {
     "data": {
      "text/html": [
       "<div>\n",
       "<style scoped>\n",
       "    .dataframe tbody tr th:only-of-type {\n",
       "        vertical-align: middle;\n",
       "    }\n",
       "\n",
       "    .dataframe tbody tr th {\n",
       "        vertical-align: top;\n",
       "    }\n",
       "\n",
       "    .dataframe thead th {\n",
       "        text-align: right;\n",
       "    }\n",
       "</style>\n",
       "<table border=\"1\" class=\"dataframe\">\n",
       "  <thead>\n",
       "    <tr style=\"text-align: right;\">\n",
       "      <th></th>\n",
       "      <th>Period</th>\n",
       "      <th>Indicator</th>\n",
       "      <th>Gender</th>\n",
       "      <th>Age (years)</th>\n",
       "    </tr>\n",
       "    <tr>\n",
       "      <th>Location</th>\n",
       "      <th></th>\n",
       "      <th></th>\n",
       "      <th></th>\n",
       "      <th></th>\n",
       "    </tr>\n",
       "  </thead>\n",
       "  <tbody>\n",
       "    <tr>\n",
       "      <th>Albania</th>\n",
       "      <td>2019</td>\n",
       "      <td>Life expectancy at birth (years)</td>\n",
       "      <td>Male</td>\n",
       "      <td>76.25</td>\n",
       "    </tr>\n",
       "    <tr>\n",
       "      <th>Albania</th>\n",
       "      <td>2019</td>\n",
       "      <td>Life expectancy at birth (years)</td>\n",
       "      <td>Female</td>\n",
       "      <td>79.91</td>\n",
       "    </tr>\n",
       "    <tr>\n",
       "      <th>Albania</th>\n",
       "      <td>2015</td>\n",
       "      <td>Life expectancy at birth (years)</td>\n",
       "      <td>Both sexes</td>\n",
       "      <td>77.84</td>\n",
       "    </tr>\n",
       "  </tbody>\n",
       "</table>\n",
       "</div>"
      ],
      "text/plain": [
       "          Period                         Indicator      Gender  Age (years)\n",
       "Location                                                                   \n",
       "Albania     2019  Life expectancy at birth (years)        Male        76.25\n",
       "Albania     2019  Life expectancy at birth (years)      Female        79.91\n",
       "Albania     2015  Life expectancy at birth (years)  Both sexes        77.84"
      ]
     },
     "execution_count": 55,
     "metadata": {},
     "output_type": "execute_result"
    }
   ],
   "source": [
    "# Use iloc to show the same data as above for Albania for 2019 only\n",
    "life_expectancy_birth.iloc[[13,14,15],0:5]"
   ]
  },
  {
   "cell_type": "code",
   "execution_count": 56,
   "id": "4239e099-924f-495a-b577-b048a67c766a",
   "metadata": {},
   "outputs": [],
   "source": [
    "#why is the above not working? can't select multiple rows with iloc?"
   ]
  },
  {
   "cell_type": "code",
   "execution_count": 57,
   "id": "8f498622-a828-40a0-8491-96a314eaaee1",
   "metadata": {},
   "outputs": [],
   "source": [
    "year = 2010"
   ]
  },
  {
   "cell_type": "code",
   "execution_count": 58,
   "id": "3536bfb4-2989-4f93-820a-899e74f5da80",
   "metadata": {},
   "outputs": [
    {
     "data": {
      "text/plain": [
       "True"
      ]
     },
     "execution_count": 58,
     "metadata": {},
     "output_type": "execute_result"
    }
   ],
   "source": [
    "year == 2010"
   ]
  },
  {
   "cell_type": "code",
   "execution_count": 59,
   "id": "05e561a3-e48a-4c6e-a3ba-d60d6a9aa4f2",
   "metadata": {},
   "outputs": [
    {
     "data": {
      "text/plain": [
       "Location\n",
       "Afghanistan    False\n",
       "Afghanistan    False\n",
       "Afghanistan    False\n",
       "Afghanistan     True\n",
       "Afghanistan     True\n",
       "               ...  \n",
       "Zimbabwe       False\n",
       "Zimbabwe       False\n",
       "Zimbabwe       False\n",
       "Zimbabwe       False\n",
       "Zimbabwe       False\n",
       "Name: Period, Length: 2197, dtype: bool"
      ]
     },
     "execution_count": 59,
     "metadata": {},
     "output_type": "execute_result"
    }
   ],
   "source": [
    "life_expectancy_birth['Period']==2015"
   ]
  },
  {
   "cell_type": "code",
   "execution_count": 60,
   "id": "e57d1ae4-66bb-4709-acf3-1f2441631bc1",
   "metadata": {},
   "outputs": [],
   "source": [
    "mask = life_expectancy_birth['Period']==2010"
   ]
  },
  {
   "cell_type": "code",
   "execution_count": 61,
   "id": "b00e89e8-2420-4686-95de-c77f2f91d081",
   "metadata": {},
   "outputs": [],
   "source": [
    "life_expectancy_2010 = life_expectancy_birth[mask] "
   ]
  },
  {
   "cell_type": "code",
   "execution_count": 62,
   "id": "9973a1c9-2073-4fc5-9a8d-5d11edda1d70",
   "metadata": {},
   "outputs": [
    {
     "data": {
      "text/plain": [
       "array([2010], dtype=int64)"
      ]
     },
     "execution_count": 62,
     "metadata": {},
     "output_type": "execute_result"
    }
   ],
   "source": [
    "life_expectancy_2010['Period'].unique() "
   ]
  },
  {
   "cell_type": "code",
   "execution_count": 63,
   "id": "eec374e6-17c9-4b51-8db0-f3c3cd354339",
   "metadata": {},
   "outputs": [
    {
     "data": {
      "text/html": [
       "<div>\n",
       "<style scoped>\n",
       "    .dataframe tbody tr th:only-of-type {\n",
       "        vertical-align: middle;\n",
       "    }\n",
       "\n",
       "    .dataframe tbody tr th {\n",
       "        vertical-align: top;\n",
       "    }\n",
       "\n",
       "    .dataframe thead th {\n",
       "        text-align: right;\n",
       "    }\n",
       "</style>\n",
       "<table border=\"1\" class=\"dataframe\">\n",
       "  <thead>\n",
       "    <tr style=\"text-align: right;\">\n",
       "      <th></th>\n",
       "      <th>Period</th>\n",
       "      <th>Indicator</th>\n",
       "      <th>Gender</th>\n",
       "      <th>Age (years)</th>\n",
       "    </tr>\n",
       "    <tr>\n",
       "      <th>Location</th>\n",
       "      <th></th>\n",
       "      <th></th>\n",
       "      <th></th>\n",
       "      <th></th>\n",
       "    </tr>\n",
       "  </thead>\n",
       "  <tbody>\n",
       "    <tr>\n",
       "      <th>Afghanistan</th>\n",
       "      <td>2010</td>\n",
       "      <td>Life expectancy at birth (years)</td>\n",
       "      <td>Both sexes</td>\n",
       "      <td>59.94</td>\n",
       "    </tr>\n",
       "    <tr>\n",
       "      <th>Afghanistan</th>\n",
       "      <td>2010</td>\n",
       "      <td>Life expectancy at birth (years)</td>\n",
       "      <td>Male</td>\n",
       "      <td>59.60</td>\n",
       "    </tr>\n",
       "    <tr>\n",
       "      <th>Afghanistan</th>\n",
       "      <td>2010</td>\n",
       "      <td>Life expectancy at birth (years)</td>\n",
       "      <td>Female</td>\n",
       "      <td>60.30</td>\n",
       "    </tr>\n",
       "    <tr>\n",
       "      <th>Albania</th>\n",
       "      <td>2010</td>\n",
       "      <td>Life expectancy at birth (years)</td>\n",
       "      <td>Both sexes</td>\n",
       "      <td>76.25</td>\n",
       "    </tr>\n",
       "    <tr>\n",
       "      <th>Albania</th>\n",
       "      <td>2010</td>\n",
       "      <td>Life expectancy at birth (years)</td>\n",
       "      <td>Male</td>\n",
       "      <td>74.23</td>\n",
       "    </tr>\n",
       "  </tbody>\n",
       "</table>\n",
       "</div>"
      ],
      "text/plain": [
       "             Period                         Indicator      Gender  Age (years)\n",
       "Location                                                                      \n",
       "Afghanistan    2010  Life expectancy at birth (years)  Both sexes        59.94\n",
       "Afghanistan    2010  Life expectancy at birth (years)        Male        59.60\n",
       "Afghanistan    2010  Life expectancy at birth (years)      Female        60.30\n",
       "Albania        2010  Life expectancy at birth (years)  Both sexes        76.25\n",
       "Albania        2010  Life expectancy at birth (years)        Male        74.23"
      ]
     },
     "execution_count": 63,
     "metadata": {},
     "output_type": "execute_result"
    }
   ],
   "source": [
    "life_expectancy_2010.head()"
   ]
  },
  {
   "cell_type": "code",
   "execution_count": 64,
   "id": "957621a4-b6a6-4fc1-b113-255751b8f90e",
   "metadata": {},
   "outputs": [
    {
     "data": {
      "text/html": [
       "<div>\n",
       "<style scoped>\n",
       "    .dataframe tbody tr th:only-of-type {\n",
       "        vertical-align: middle;\n",
       "    }\n",
       "\n",
       "    .dataframe tbody tr th {\n",
       "        vertical-align: top;\n",
       "    }\n",
       "\n",
       "    .dataframe thead th {\n",
       "        text-align: right;\n",
       "    }\n",
       "</style>\n",
       "<table border=\"1\" class=\"dataframe\">\n",
       "  <thead>\n",
       "    <tr style=\"text-align: right;\">\n",
       "      <th></th>\n",
       "      <th>Period</th>\n",
       "      <th>Indicator</th>\n",
       "      <th>Gender</th>\n",
       "      <th>Age (years)</th>\n",
       "    </tr>\n",
       "    <tr>\n",
       "      <th>Location</th>\n",
       "      <th></th>\n",
       "      <th></th>\n",
       "      <th></th>\n",
       "      <th></th>\n",
       "    </tr>\n",
       "  </thead>\n",
       "  <tbody>\n",
       "    <tr>\n",
       "      <th>Zambia</th>\n",
       "      <td>2010</td>\n",
       "      <td>Life expectancy at birth (years)</td>\n",
       "      <td>Male</td>\n",
       "      <td>54.27</td>\n",
       "    </tr>\n",
       "    <tr>\n",
       "      <th>Zambia</th>\n",
       "      <td>2010</td>\n",
       "      <td>Life expectancy at birth (years)</td>\n",
       "      <td>Female</td>\n",
       "      <td>59.06</td>\n",
       "    </tr>\n",
       "    <tr>\n",
       "      <th>Zimbabwe</th>\n",
       "      <td>2010</td>\n",
       "      <td>Life expectancy at birth (years)</td>\n",
       "      <td>Both sexes</td>\n",
       "      <td>51.49</td>\n",
       "    </tr>\n",
       "    <tr>\n",
       "      <th>Zimbabwe</th>\n",
       "      <td>2010</td>\n",
       "      <td>Life expectancy at birth (years)</td>\n",
       "      <td>Male</td>\n",
       "      <td>49.58</td>\n",
       "    </tr>\n",
       "    <tr>\n",
       "      <th>Zimbabwe</th>\n",
       "      <td>2010</td>\n",
       "      <td>Life expectancy at birth (years)</td>\n",
       "      <td>Female</td>\n",
       "      <td>53.21</td>\n",
       "    </tr>\n",
       "  </tbody>\n",
       "</table>\n",
       "</div>"
      ],
      "text/plain": [
       "          Period                         Indicator      Gender  Age (years)\n",
       "Location                                                                   \n",
       "Zambia      2010  Life expectancy at birth (years)        Male        54.27\n",
       "Zambia      2010  Life expectancy at birth (years)      Female        59.06\n",
       "Zimbabwe    2010  Life expectancy at birth (years)  Both sexes        51.49\n",
       "Zimbabwe    2010  Life expectancy at birth (years)        Male        49.58\n",
       "Zimbabwe    2010  Life expectancy at birth (years)      Female        53.21"
      ]
     },
     "execution_count": 64,
     "metadata": {},
     "output_type": "execute_result"
    }
   ],
   "source": [
    "life_expectancy_2010.tail()"
   ]
  },
  {
   "cell_type": "code",
   "execution_count": 65,
   "id": "fd601bc7-97b8-4687-8504-601360ed67a3",
   "metadata": {},
   "outputs": [],
   "source": [
    "both_sexes_mask = life_expectancy_2010['Gender'] == 'Both sexes'"
   ]
  },
  {
   "cell_type": "code",
   "execution_count": 66,
   "id": "75b0c12b-98a5-4ead-aece-cfa094c835a1",
   "metadata": {},
   "outputs": [],
   "source": [
    "life_expectancy_2010 = life_expectancy_2010[both_sexes_mask]"
   ]
  },
  {
   "cell_type": "code",
   "execution_count": 67,
   "id": "2e6996f6-ef93-4b34-8cdd-1cdef10b924f",
   "metadata": {},
   "outputs": [
    {
     "data": {
      "text/html": [
       "<div>\n",
       "<style scoped>\n",
       "    .dataframe tbody tr th:only-of-type {\n",
       "        vertical-align: middle;\n",
       "    }\n",
       "\n",
       "    .dataframe tbody tr th {\n",
       "        vertical-align: top;\n",
       "    }\n",
       "\n",
       "    .dataframe thead th {\n",
       "        text-align: right;\n",
       "    }\n",
       "</style>\n",
       "<table border=\"1\" class=\"dataframe\">\n",
       "  <thead>\n",
       "    <tr style=\"text-align: right;\">\n",
       "      <th></th>\n",
       "      <th>Period</th>\n",
       "      <th>Indicator</th>\n",
       "      <th>Gender</th>\n",
       "      <th>Age (years)</th>\n",
       "    </tr>\n",
       "    <tr>\n",
       "      <th>Location</th>\n",
       "      <th></th>\n",
       "      <th></th>\n",
       "      <th></th>\n",
       "      <th></th>\n",
       "    </tr>\n",
       "  </thead>\n",
       "  <tbody>\n",
       "    <tr>\n",
       "      <th>Afghanistan</th>\n",
       "      <td>2010</td>\n",
       "      <td>Life expectancy at birth (years)</td>\n",
       "      <td>Both sexes</td>\n",
       "      <td>59.94</td>\n",
       "    </tr>\n",
       "    <tr>\n",
       "      <th>Albania</th>\n",
       "      <td>2010</td>\n",
       "      <td>Life expectancy at birth (years)</td>\n",
       "      <td>Both sexes</td>\n",
       "      <td>76.25</td>\n",
       "    </tr>\n",
       "    <tr>\n",
       "      <th>Algeria</th>\n",
       "      <td>2010</td>\n",
       "      <td>Life expectancy at birth (years)</td>\n",
       "      <td>Both sexes</td>\n",
       "      <td>75.85</td>\n",
       "    </tr>\n",
       "    <tr>\n",
       "      <th>Angola</th>\n",
       "      <td>2010</td>\n",
       "      <td>Life expectancy at birth (years)</td>\n",
       "      <td>Both sexes</td>\n",
       "      <td>58.07</td>\n",
       "    </tr>\n",
       "    <tr>\n",
       "      <th>Antigua and Barbuda</th>\n",
       "      <td>2010</td>\n",
       "      <td>Life expectancy at birth (years)</td>\n",
       "      <td>Both sexes</td>\n",
       "      <td>75.95</td>\n",
       "    </tr>\n",
       "  </tbody>\n",
       "</table>\n",
       "</div>"
      ],
      "text/plain": [
       "                     Period                         Indicator      Gender  \\\n",
       "Location                                                                    \n",
       "Afghanistan            2010  Life expectancy at birth (years)  Both sexes   \n",
       "Albania                2010  Life expectancy at birth (years)  Both sexes   \n",
       "Algeria                2010  Life expectancy at birth (years)  Both sexes   \n",
       "Angola                 2010  Life expectancy at birth (years)  Both sexes   \n",
       "Antigua and Barbuda    2010  Life expectancy at birth (years)  Both sexes   \n",
       "\n",
       "                     Age (years)  \n",
       "Location                          \n",
       "Afghanistan                59.94  \n",
       "Albania                    76.25  \n",
       "Algeria                    75.85  \n",
       "Angola                     58.07  \n",
       "Antigua and Barbuda        75.95  "
      ]
     },
     "execution_count": 67,
     "metadata": {},
     "output_type": "execute_result"
    }
   ],
   "source": [
    "life_expectancy_2010.head()"
   ]
  },
  {
   "cell_type": "code",
   "execution_count": 68,
   "id": "d8d4f603-5d9f-41b8-b0c8-d66c0aeda050",
   "metadata": {},
   "outputs": [
    {
     "data": {
      "text/html": [
       "<div>\n",
       "<style scoped>\n",
       "    .dataframe tbody tr th:only-of-type {\n",
       "        vertical-align: middle;\n",
       "    }\n",
       "\n",
       "    .dataframe tbody tr th {\n",
       "        vertical-align: top;\n",
       "    }\n",
       "\n",
       "    .dataframe thead th {\n",
       "        text-align: right;\n",
       "    }\n",
       "</style>\n",
       "<table border=\"1\" class=\"dataframe\">\n",
       "  <thead>\n",
       "    <tr style=\"text-align: right;\">\n",
       "      <th></th>\n",
       "      <th>Period</th>\n",
       "      <th>Indicator</th>\n",
       "      <th>Gender</th>\n",
       "      <th>Age (years)</th>\n",
       "    </tr>\n",
       "    <tr>\n",
       "      <th>Location</th>\n",
       "      <th></th>\n",
       "      <th></th>\n",
       "      <th></th>\n",
       "      <th></th>\n",
       "    </tr>\n",
       "  </thead>\n",
       "  <tbody>\n",
       "    <tr>\n",
       "      <th>Venezuela (Bolivarian Republic of)</th>\n",
       "      <td>2010</td>\n",
       "      <td>Life expectancy at birth (years)</td>\n",
       "      <td>Both sexes</td>\n",
       "      <td>74.79</td>\n",
       "    </tr>\n",
       "    <tr>\n",
       "      <th>Viet Nam</th>\n",
       "      <td>2010</td>\n",
       "      <td>Life expectancy at birth (years)</td>\n",
       "      <td>Both sexes</td>\n",
       "      <td>72.72</td>\n",
       "    </tr>\n",
       "    <tr>\n",
       "      <th>Yemen</th>\n",
       "      <td>2010</td>\n",
       "      <td>Life expectancy at birth (years)</td>\n",
       "      <td>Both sexes</td>\n",
       "      <td>67.70</td>\n",
       "    </tr>\n",
       "    <tr>\n",
       "      <th>Zambia</th>\n",
       "      <td>2010</td>\n",
       "      <td>Life expectancy at birth (years)</td>\n",
       "      <td>Both sexes</td>\n",
       "      <td>56.67</td>\n",
       "    </tr>\n",
       "    <tr>\n",
       "      <th>Zimbabwe</th>\n",
       "      <td>2010</td>\n",
       "      <td>Life expectancy at birth (years)</td>\n",
       "      <td>Both sexes</td>\n",
       "      <td>51.49</td>\n",
       "    </tr>\n",
       "  </tbody>\n",
       "</table>\n",
       "</div>"
      ],
      "text/plain": [
       "                                    Period                         Indicator  \\\n",
       "Location                                                                       \n",
       "Venezuela (Bolivarian Republic of)    2010  Life expectancy at birth (years)   \n",
       "Viet Nam                              2010  Life expectancy at birth (years)   \n",
       "Yemen                                 2010  Life expectancy at birth (years)   \n",
       "Zambia                                2010  Life expectancy at birth (years)   \n",
       "Zimbabwe                              2010  Life expectancy at birth (years)   \n",
       "\n",
       "                                        Gender  Age (years)  \n",
       "Location                                                     \n",
       "Venezuela (Bolivarian Republic of)  Both sexes        74.79  \n",
       "Viet Nam                            Both sexes        72.72  \n",
       "Yemen                               Both sexes        67.70  \n",
       "Zambia                              Both sexes        56.67  \n",
       "Zimbabwe                            Both sexes        51.49  "
      ]
     },
     "execution_count": 68,
     "metadata": {},
     "output_type": "execute_result"
    }
   ],
   "source": [
    "life_expectancy_2010.tail()"
   ]
  },
  {
   "cell_type": "code",
   "execution_count": 69,
   "id": "055b97d2-cbe3-49db-88f3-a4b7368149be",
   "metadata": {},
   "outputs": [
    {
     "data": {
      "text/plain": [
       "Index(['Period', 'Indicator', 'Gender', 'Age (years)'], dtype='object')"
      ]
     },
     "execution_count": 69,
     "metadata": {},
     "output_type": "execute_result"
    }
   ],
   "source": [
    "life_expectancy_2010.columns"
   ]
  },
  {
   "cell_type": "code",
   "execution_count": 70,
   "id": "f335afee-2e89-4917-a156-1bca7d651c83",
   "metadata": {},
   "outputs": [
    {
     "data": {
      "text/plain": [
       "0       False\n",
       "1       False\n",
       "2       False\n",
       "3       False\n",
       "4       False\n",
       "        ...  \n",
       "2721    False\n",
       "2722    False\n",
       "2723    False\n",
       "2724    False\n",
       "2725    False\n",
       "Name: Period, Length: 2726, dtype: bool"
      ]
     },
     "execution_count": 70,
     "metadata": {},
     "output_type": "execute_result"
    }
   ],
   "source": [
    "hand_wash['Period']==2015"
   ]
  },
  {
   "cell_type": "code",
   "execution_count": 71,
   "id": "f96126a0-121b-418d-aec4-12f3d70705e5",
   "metadata": {},
   "outputs": [],
   "source": [
    "mask = hand_wash['Period']==2010"
   ]
  },
  {
   "cell_type": "code",
   "execution_count": 72,
   "id": "759a12df-c490-480a-ad4b-4b132d4cc671",
   "metadata": {},
   "outputs": [],
   "source": [
    "hand_wash_2010 = hand_wash[mask] "
   ]
  },
  {
   "cell_type": "code",
   "execution_count": 73,
   "id": "45b4298f-e169-4a6d-bc3c-a9eeba56d889",
   "metadata": {},
   "outputs": [
    {
     "data": {
      "text/plain": [
       "array([2010], dtype=int64)"
      ]
     },
     "execution_count": 73,
     "metadata": {},
     "output_type": "execute_result"
    }
   ],
   "source": [
    "hand_wash_2010['Period'].unique() "
   ]
  },
  {
   "cell_type": "code",
   "execution_count": 74,
   "id": "a17d5bfa-072d-4184-b9ee-2b5032d43b9e",
   "metadata": {},
   "outputs": [
    {
     "data": {
      "text/html": [
       "<div>\n",
       "<style scoped>\n",
       "    .dataframe tbody tr th:only-of-type {\n",
       "        vertical-align: middle;\n",
       "    }\n",
       "\n",
       "    .dataframe tbody tr th {\n",
       "        vertical-align: top;\n",
       "    }\n",
       "\n",
       "    .dataframe thead th {\n",
       "        text-align: right;\n",
       "    }\n",
       "</style>\n",
       "<table border=\"1\" class=\"dataframe\">\n",
       "  <thead>\n",
       "    <tr style=\"text-align: right;\">\n",
       "      <th></th>\n",
       "      <th>Location</th>\n",
       "      <th>Indicator</th>\n",
       "      <th>Period</th>\n",
       "      <th>Dim1</th>\n",
       "      <th>First Tooltip</th>\n",
       "    </tr>\n",
       "  </thead>\n",
       "  <tbody>\n",
       "    <tr>\n",
       "      <th>21</th>\n",
       "      <td>Afghanistan</td>\n",
       "      <td>Population with basic handwashing facilities a...</td>\n",
       "      <td>2010</td>\n",
       "      <td>Total</td>\n",
       "      <td>37.22</td>\n",
       "    </tr>\n",
       "    <tr>\n",
       "      <th>22</th>\n",
       "      <td>Afghanistan</td>\n",
       "      <td>Population with basic handwashing facilities a...</td>\n",
       "      <td>2010</td>\n",
       "      <td>Urban</td>\n",
       "      <td>63.58</td>\n",
       "    </tr>\n",
       "    <tr>\n",
       "      <th>23</th>\n",
       "      <td>Afghanistan</td>\n",
       "      <td>Population with basic handwashing facilities a...</td>\n",
       "      <td>2010</td>\n",
       "      <td>Rural</td>\n",
       "      <td>29.02</td>\n",
       "    </tr>\n",
       "    <tr>\n",
       "      <th>60</th>\n",
       "      <td>Algeria</td>\n",
       "      <td>Population with basic handwashing facilities a...</td>\n",
       "      <td>2010</td>\n",
       "      <td>Total</td>\n",
       "      <td>83.07</td>\n",
       "    </tr>\n",
       "    <tr>\n",
       "      <th>61</th>\n",
       "      <td>Algeria</td>\n",
       "      <td>Population with basic handwashing facilities a...</td>\n",
       "      <td>2010</td>\n",
       "      <td>Urban</td>\n",
       "      <td>87.88</td>\n",
       "    </tr>\n",
       "  </tbody>\n",
       "</table>\n",
       "</div>"
      ],
      "text/plain": [
       "       Location                                          Indicator  Period  \\\n",
       "21  Afghanistan  Population with basic handwashing facilities a...    2010   \n",
       "22  Afghanistan  Population with basic handwashing facilities a...    2010   \n",
       "23  Afghanistan  Population with basic handwashing facilities a...    2010   \n",
       "60      Algeria  Population with basic handwashing facilities a...    2010   \n",
       "61      Algeria  Population with basic handwashing facilities a...    2010   \n",
       "\n",
       "     Dim1  First Tooltip  \n",
       "21  Total          37.22  \n",
       "22  Urban          63.58  \n",
       "23  Rural          29.02  \n",
       "60  Total          83.07  \n",
       "61  Urban          87.88  "
      ]
     },
     "execution_count": 74,
     "metadata": {},
     "output_type": "execute_result"
    }
   ],
   "source": [
    "hand_wash_2010.head()"
   ]
  },
  {
   "cell_type": "code",
   "execution_count": 75,
   "id": "5364c290-2497-404c-8bd8-b16c15f867bd",
   "metadata": {},
   "outputs": [
    {
     "data": {
      "text/html": [
       "<div>\n",
       "<style scoped>\n",
       "    .dataframe tbody tr th:only-of-type {\n",
       "        vertical-align: middle;\n",
       "    }\n",
       "\n",
       "    .dataframe tbody tr th {\n",
       "        vertical-align: top;\n",
       "    }\n",
       "\n",
       "    .dataframe thead th {\n",
       "        text-align: right;\n",
       "    }\n",
       "</style>\n",
       "<table border=\"1\" class=\"dataframe\">\n",
       "  <thead>\n",
       "    <tr style=\"text-align: right;\">\n",
       "      <th></th>\n",
       "      <th>Location</th>\n",
       "      <th>Indicator</th>\n",
       "      <th>Period</th>\n",
       "      <th>Dim1</th>\n",
       "      <th>First Tooltip</th>\n",
       "    </tr>\n",
       "  </thead>\n",
       "  <tbody>\n",
       "    <tr>\n",
       "      <th>2676</th>\n",
       "      <td>Yemen</td>\n",
       "      <td>Population with basic handwashing facilities a...</td>\n",
       "      <td>2010</td>\n",
       "      <td>Urban</td>\n",
       "      <td>70.86</td>\n",
       "    </tr>\n",
       "    <tr>\n",
       "      <th>2677</th>\n",
       "      <td>Yemen</td>\n",
       "      <td>Population with basic handwashing facilities a...</td>\n",
       "      <td>2010</td>\n",
       "      <td>Rural</td>\n",
       "      <td>37.54</td>\n",
       "    </tr>\n",
       "    <tr>\n",
       "      <th>2702</th>\n",
       "      <td>Zambia</td>\n",
       "      <td>Population with basic handwashing facilities a...</td>\n",
       "      <td>2010</td>\n",
       "      <td>Total</td>\n",
       "      <td>13.20</td>\n",
       "    </tr>\n",
       "    <tr>\n",
       "      <th>2703</th>\n",
       "      <td>Zambia</td>\n",
       "      <td>Population with basic handwashing facilities a...</td>\n",
       "      <td>2010</td>\n",
       "      <td>Urban</td>\n",
       "      <td>25.59</td>\n",
       "    </tr>\n",
       "    <tr>\n",
       "      <th>2704</th>\n",
       "      <td>Zambia</td>\n",
       "      <td>Population with basic handwashing facilities a...</td>\n",
       "      <td>2010</td>\n",
       "      <td>Rural</td>\n",
       "      <td>5.16</td>\n",
       "    </tr>\n",
       "  </tbody>\n",
       "</table>\n",
       "</div>"
      ],
      "text/plain": [
       "     Location                                          Indicator  Period  \\\n",
       "2676    Yemen  Population with basic handwashing facilities a...    2010   \n",
       "2677    Yemen  Population with basic handwashing facilities a...    2010   \n",
       "2702   Zambia  Population with basic handwashing facilities a...    2010   \n",
       "2703   Zambia  Population with basic handwashing facilities a...    2010   \n",
       "2704   Zambia  Population with basic handwashing facilities a...    2010   \n",
       "\n",
       "       Dim1  First Tooltip  \n",
       "2676  Urban          70.86  \n",
       "2677  Rural          37.54  \n",
       "2702  Total          13.20  \n",
       "2703  Urban          25.59  \n",
       "2704  Rural           5.16  "
      ]
     },
     "execution_count": 75,
     "metadata": {},
     "output_type": "execute_result"
    }
   ],
   "source": [
    "hand_wash_2010.tail()"
   ]
  },
  {
   "cell_type": "code",
   "execution_count": 76,
   "id": "b4629946-362d-4797-8c73-c87c84cb0710",
   "metadata": {},
   "outputs": [],
   "source": [
    "#remove unnecessary columns in both datasets"
   ]
  },
  {
   "cell_type": "code",
   "execution_count": 77,
   "id": "488869ab-c4e0-4607-b796-2b472fa93c18",
   "metadata": {},
   "outputs": [
    {
     "data": {
      "text/html": [
       "<div>\n",
       "<style scoped>\n",
       "    .dataframe tbody tr th:only-of-type {\n",
       "        vertical-align: middle;\n",
       "    }\n",
       "\n",
       "    .dataframe tbody tr th {\n",
       "        vertical-align: top;\n",
       "    }\n",
       "\n",
       "    .dataframe thead th {\n",
       "        text-align: right;\n",
       "    }\n",
       "</style>\n",
       "<table border=\"1\" class=\"dataframe\">\n",
       "  <thead>\n",
       "    <tr style=\"text-align: right;\">\n",
       "      <th></th>\n",
       "      <th>Period</th>\n",
       "      <th>Indicator</th>\n",
       "      <th>Gender</th>\n",
       "      <th>Age (years)</th>\n",
       "    </tr>\n",
       "    <tr>\n",
       "      <th>Location</th>\n",
       "      <th></th>\n",
       "      <th></th>\n",
       "      <th></th>\n",
       "      <th></th>\n",
       "    </tr>\n",
       "  </thead>\n",
       "  <tbody>\n",
       "    <tr>\n",
       "      <th>Afghanistan</th>\n",
       "      <td>2010</td>\n",
       "      <td>Life expectancy at birth (years)</td>\n",
       "      <td>Both sexes</td>\n",
       "      <td>59.94</td>\n",
       "    </tr>\n",
       "    <tr>\n",
       "      <th>Albania</th>\n",
       "      <td>2010</td>\n",
       "      <td>Life expectancy at birth (years)</td>\n",
       "      <td>Both sexes</td>\n",
       "      <td>76.25</td>\n",
       "    </tr>\n",
       "    <tr>\n",
       "      <th>Algeria</th>\n",
       "      <td>2010</td>\n",
       "      <td>Life expectancy at birth (years)</td>\n",
       "      <td>Both sexes</td>\n",
       "      <td>75.85</td>\n",
       "    </tr>\n",
       "    <tr>\n",
       "      <th>Angola</th>\n",
       "      <td>2010</td>\n",
       "      <td>Life expectancy at birth (years)</td>\n",
       "      <td>Both sexes</td>\n",
       "      <td>58.07</td>\n",
       "    </tr>\n",
       "    <tr>\n",
       "      <th>Antigua and Barbuda</th>\n",
       "      <td>2010</td>\n",
       "      <td>Life expectancy at birth (years)</td>\n",
       "      <td>Both sexes</td>\n",
       "      <td>75.95</td>\n",
       "    </tr>\n",
       "  </tbody>\n",
       "</table>\n",
       "</div>"
      ],
      "text/plain": [
       "                     Period                         Indicator      Gender  \\\n",
       "Location                                                                    \n",
       "Afghanistan            2010  Life expectancy at birth (years)  Both sexes   \n",
       "Albania                2010  Life expectancy at birth (years)  Both sexes   \n",
       "Algeria                2010  Life expectancy at birth (years)  Both sexes   \n",
       "Angola                 2010  Life expectancy at birth (years)  Both sexes   \n",
       "Antigua and Barbuda    2010  Life expectancy at birth (years)  Both sexes   \n",
       "\n",
       "                     Age (years)  \n",
       "Location                          \n",
       "Afghanistan                59.94  \n",
       "Albania                    76.25  \n",
       "Algeria                    75.85  \n",
       "Angola                     58.07  \n",
       "Antigua and Barbuda        75.95  "
      ]
     },
     "execution_count": 77,
     "metadata": {},
     "output_type": "execute_result"
    }
   ],
   "source": [
    "life_expectancy_2010.head()"
   ]
  },
  {
   "cell_type": "code",
   "execution_count": 78,
   "id": "1e63574f-603c-46ed-91ee-f5d7cb9088fa",
   "metadata": {},
   "outputs": [
    {
     "data": {
      "text/html": [
       "<div>\n",
       "<style scoped>\n",
       "    .dataframe tbody tr th:only-of-type {\n",
       "        vertical-align: middle;\n",
       "    }\n",
       "\n",
       "    .dataframe tbody tr th {\n",
       "        vertical-align: top;\n",
       "    }\n",
       "\n",
       "    .dataframe thead th {\n",
       "        text-align: right;\n",
       "    }\n",
       "</style>\n",
       "<table border=\"1\" class=\"dataframe\">\n",
       "  <thead>\n",
       "    <tr style=\"text-align: right;\">\n",
       "      <th></th>\n",
       "      <th>Location</th>\n",
       "      <th>Indicator</th>\n",
       "      <th>Period</th>\n",
       "      <th>Dim1</th>\n",
       "      <th>First Tooltip</th>\n",
       "    </tr>\n",
       "  </thead>\n",
       "  <tbody>\n",
       "    <tr>\n",
       "      <th>21</th>\n",
       "      <td>Afghanistan</td>\n",
       "      <td>Population with basic handwashing facilities a...</td>\n",
       "      <td>2010</td>\n",
       "      <td>Total</td>\n",
       "      <td>37.22</td>\n",
       "    </tr>\n",
       "    <tr>\n",
       "      <th>22</th>\n",
       "      <td>Afghanistan</td>\n",
       "      <td>Population with basic handwashing facilities a...</td>\n",
       "      <td>2010</td>\n",
       "      <td>Urban</td>\n",
       "      <td>63.58</td>\n",
       "    </tr>\n",
       "    <tr>\n",
       "      <th>23</th>\n",
       "      <td>Afghanistan</td>\n",
       "      <td>Population with basic handwashing facilities a...</td>\n",
       "      <td>2010</td>\n",
       "      <td>Rural</td>\n",
       "      <td>29.02</td>\n",
       "    </tr>\n",
       "    <tr>\n",
       "      <th>60</th>\n",
       "      <td>Algeria</td>\n",
       "      <td>Population with basic handwashing facilities a...</td>\n",
       "      <td>2010</td>\n",
       "      <td>Total</td>\n",
       "      <td>83.07</td>\n",
       "    </tr>\n",
       "    <tr>\n",
       "      <th>61</th>\n",
       "      <td>Algeria</td>\n",
       "      <td>Population with basic handwashing facilities a...</td>\n",
       "      <td>2010</td>\n",
       "      <td>Urban</td>\n",
       "      <td>87.88</td>\n",
       "    </tr>\n",
       "  </tbody>\n",
       "</table>\n",
       "</div>"
      ],
      "text/plain": [
       "       Location                                          Indicator  Period  \\\n",
       "21  Afghanistan  Population with basic handwashing facilities a...    2010   \n",
       "22  Afghanistan  Population with basic handwashing facilities a...    2010   \n",
       "23  Afghanistan  Population with basic handwashing facilities a...    2010   \n",
       "60      Algeria  Population with basic handwashing facilities a...    2010   \n",
       "61      Algeria  Population with basic handwashing facilities a...    2010   \n",
       "\n",
       "     Dim1  First Tooltip  \n",
       "21  Total          37.22  \n",
       "22  Urban          63.58  \n",
       "23  Rural          29.02  \n",
       "60  Total          83.07  \n",
       "61  Urban          87.88  "
      ]
     },
     "execution_count": 78,
     "metadata": {},
     "output_type": "execute_result"
    }
   ],
   "source": [
    "hand_wash_2010.head()"
   ]
  },
  {
   "cell_type": "code",
   "execution_count": 79,
   "id": "946ed929-6367-4247-8159-503b915725a8",
   "metadata": {},
   "outputs": [],
   "source": [
    "#remove urban and rural values from hand_wash_2010, only need total, should have renamed Dim1 at start\n",
    "Dim1_mask = hand_wash_2010['Dim1'] == 'Total'\n",
    "hand_wash_2010 = hand_wash_2010[Dim1_mask]"
   ]
  },
  {
   "cell_type": "code",
   "execution_count": 80,
   "id": "dc149513-14dd-4704-b1cb-bdbe4d0b0836",
   "metadata": {},
   "outputs": [
    {
     "data": {
      "text/html": [
       "<div>\n",
       "<style scoped>\n",
       "    .dataframe tbody tr th:only-of-type {\n",
       "        vertical-align: middle;\n",
       "    }\n",
       "\n",
       "    .dataframe tbody tr th {\n",
       "        vertical-align: top;\n",
       "    }\n",
       "\n",
       "    .dataframe thead th {\n",
       "        text-align: right;\n",
       "    }\n",
       "</style>\n",
       "<table border=\"1\" class=\"dataframe\">\n",
       "  <thead>\n",
       "    <tr style=\"text-align: right;\">\n",
       "      <th></th>\n",
       "      <th>Location</th>\n",
       "      <th>Indicator</th>\n",
       "      <th>Period</th>\n",
       "      <th>Dim1</th>\n",
       "      <th>First Tooltip</th>\n",
       "    </tr>\n",
       "  </thead>\n",
       "  <tbody>\n",
       "    <tr>\n",
       "      <th>21</th>\n",
       "      <td>Afghanistan</td>\n",
       "      <td>Population with basic handwashing facilities a...</td>\n",
       "      <td>2010</td>\n",
       "      <td>Total</td>\n",
       "      <td>37.22</td>\n",
       "    </tr>\n",
       "    <tr>\n",
       "      <th>60</th>\n",
       "      <td>Algeria</td>\n",
       "      <td>Population with basic handwashing facilities a...</td>\n",
       "      <td>2010</td>\n",
       "      <td>Total</td>\n",
       "      <td>83.07</td>\n",
       "    </tr>\n",
       "    <tr>\n",
       "      <th>105</th>\n",
       "      <td>Armenia</td>\n",
       "      <td>Population with basic handwashing facilities a...</td>\n",
       "      <td>2010</td>\n",
       "      <td>Total</td>\n",
       "      <td>89.47</td>\n",
       "    </tr>\n",
       "    <tr>\n",
       "      <th>145</th>\n",
       "      <td>Azerbaijan</td>\n",
       "      <td>Population with basic handwashing facilities a...</td>\n",
       "      <td>2010</td>\n",
       "      <td>Total</td>\n",
       "      <td>83.24</td>\n",
       "    </tr>\n",
       "    <tr>\n",
       "      <th>168</th>\n",
       "      <td>Bangladesh</td>\n",
       "      <td>Population with basic handwashing facilities a...</td>\n",
       "      <td>2010</td>\n",
       "      <td>Total</td>\n",
       "      <td>33.44</td>\n",
       "    </tr>\n",
       "  </tbody>\n",
       "</table>\n",
       "</div>"
      ],
      "text/plain": [
       "        Location                                          Indicator  Period  \\\n",
       "21   Afghanistan  Population with basic handwashing facilities a...    2010   \n",
       "60       Algeria  Population with basic handwashing facilities a...    2010   \n",
       "105      Armenia  Population with basic handwashing facilities a...    2010   \n",
       "145   Azerbaijan  Population with basic handwashing facilities a...    2010   \n",
       "168   Bangladesh  Population with basic handwashing facilities a...    2010   \n",
       "\n",
       "      Dim1  First Tooltip  \n",
       "21   Total          37.22  \n",
       "60   Total          83.07  \n",
       "105  Total          89.47  \n",
       "145  Total          83.24  \n",
       "168  Total          33.44  "
      ]
     },
     "execution_count": 80,
     "metadata": {},
     "output_type": "execute_result"
    }
   ],
   "source": [
    "hand_wash_2010.head()\n"
   ]
  },
  {
   "cell_type": "code",
   "execution_count": 81,
   "id": "c43b0024-5917-402d-877c-b3b2b0beee39",
   "metadata": {
    "tags": []
   },
   "outputs": [],
   "source": [
    "merged_data_2010 = hand_wash_2010.merge(life_expectancy_2010, left_on='Location', right_on = 'Location')"
   ]
  },
  {
   "cell_type": "code",
   "execution_count": 82,
   "id": "0e26e280-0255-40a0-aab5-48c8e9a4787f",
   "metadata": {},
   "outputs": [
    {
     "name": "stdout",
     "output_type": "stream",
     "text": [
      "       Location                                        Indicator_x  Period_x  \\\n",
      "0   Afghanistan  Population with basic handwashing facilities a...      2010   \n",
      "1       Algeria  Population with basic handwashing facilities a...      2010   \n",
      "2       Armenia  Population with basic handwashing facilities a...      2010   \n",
      "3    Azerbaijan  Population with basic handwashing facilities a...      2010   \n",
      "4    Bangladesh  Population with basic handwashing facilities a...      2010   \n",
      "..          ...                                                ...       ...   \n",
      "60       Uganda  Population with basic handwashing facilities a...      2010   \n",
      "61      Vanuatu  Population with basic handwashing facilities a...      2010   \n",
      "62     Viet Nam  Population with basic handwashing facilities a...      2010   \n",
      "63        Yemen  Population with basic handwashing facilities a...      2010   \n",
      "64       Zambia  Population with basic handwashing facilities a...      2010   \n",
      "\n",
      "     Dim1  First Tooltip  Period_y                       Indicator_y  \\\n",
      "0   Total          37.22      2010  Life expectancy at birth (years)   \n",
      "1   Total          83.07      2010  Life expectancy at birth (years)   \n",
      "2   Total          89.47      2010  Life expectancy at birth (years)   \n",
      "3   Total          83.24      2010  Life expectancy at birth (years)   \n",
      "4   Total          33.44      2010  Life expectancy at birth (years)   \n",
      "..    ...            ...       ...                               ...   \n",
      "60  Total          13.31      2010  Life expectancy at birth (years)   \n",
      "61  Total          24.99      2010  Life expectancy at birth (years)   \n",
      "62  Total          85.35      2010  Life expectancy at birth (years)   \n",
      "63  Total          48.13      2010  Life expectancy at birth (years)   \n",
      "64  Total          13.20      2010  Life expectancy at birth (years)   \n",
      "\n",
      "        Gender  Age (years)  \n",
      "0   Both sexes        59.94  \n",
      "1   Both sexes        75.85  \n",
      "2   Both sexes        73.12  \n",
      "3   Both sexes        69.03  \n",
      "4   Both sexes        70.29  \n",
      "..         ...          ...  \n",
      "60  Both sexes        59.67  \n",
      "61  Both sexes        64.52  \n",
      "62  Both sexes        72.72  \n",
      "63  Both sexes        67.70  \n",
      "64  Both sexes        56.67  \n",
      "\n",
      "[65 rows x 9 columns]\n"
     ]
    }
   ],
   "source": [
    "print (merged_data_2010)"
   ]
  },
  {
   "cell_type": "code",
   "execution_count": 83,
   "id": "53adde8b-eb1b-45e2-9415-7496727f603a",
   "metadata": {},
   "outputs": [
    {
     "data": {
      "text/html": [
       "<div>\n",
       "<style scoped>\n",
       "    .dataframe tbody tr th:only-of-type {\n",
       "        vertical-align: middle;\n",
       "    }\n",
       "\n",
       "    .dataframe tbody tr th {\n",
       "        vertical-align: top;\n",
       "    }\n",
       "\n",
       "    .dataframe thead th {\n",
       "        text-align: right;\n",
       "    }\n",
       "</style>\n",
       "<table border=\"1\" class=\"dataframe\">\n",
       "  <thead>\n",
       "    <tr style=\"text-align: right;\">\n",
       "      <th></th>\n",
       "      <th>Location</th>\n",
       "      <th>Indicator_x</th>\n",
       "      <th>First Tooltip</th>\n",
       "      <th>Indicator_y</th>\n",
       "      <th>Age (years)</th>\n",
       "    </tr>\n",
       "  </thead>\n",
       "  <tbody>\n",
       "    <tr>\n",
       "      <th>0</th>\n",
       "      <td>Afghanistan</td>\n",
       "      <td>Population with basic handwashing facilities a...</td>\n",
       "      <td>37.22</td>\n",
       "      <td>Life expectancy at birth (years)</td>\n",
       "      <td>59.94</td>\n",
       "    </tr>\n",
       "    <tr>\n",
       "      <th>1</th>\n",
       "      <td>Algeria</td>\n",
       "      <td>Population with basic handwashing facilities a...</td>\n",
       "      <td>83.07</td>\n",
       "      <td>Life expectancy at birth (years)</td>\n",
       "      <td>75.85</td>\n",
       "    </tr>\n",
       "    <tr>\n",
       "      <th>2</th>\n",
       "      <td>Armenia</td>\n",
       "      <td>Population with basic handwashing facilities a...</td>\n",
       "      <td>89.47</td>\n",
       "      <td>Life expectancy at birth (years)</td>\n",
       "      <td>73.12</td>\n",
       "    </tr>\n",
       "    <tr>\n",
       "      <th>3</th>\n",
       "      <td>Azerbaijan</td>\n",
       "      <td>Population with basic handwashing facilities a...</td>\n",
       "      <td>83.24</td>\n",
       "      <td>Life expectancy at birth (years)</td>\n",
       "      <td>69.03</td>\n",
       "    </tr>\n",
       "    <tr>\n",
       "      <th>4</th>\n",
       "      <td>Bangladesh</td>\n",
       "      <td>Population with basic handwashing facilities a...</td>\n",
       "      <td>33.44</td>\n",
       "      <td>Life expectancy at birth (years)</td>\n",
       "      <td>70.29</td>\n",
       "    </tr>\n",
       "  </tbody>\n",
       "</table>\n",
       "</div>"
      ],
      "text/plain": [
       "      Location                                        Indicator_x  \\\n",
       "0  Afghanistan  Population with basic handwashing facilities a...   \n",
       "1      Algeria  Population with basic handwashing facilities a...   \n",
       "2      Armenia  Population with basic handwashing facilities a...   \n",
       "3   Azerbaijan  Population with basic handwashing facilities a...   \n",
       "4   Bangladesh  Population with basic handwashing facilities a...   \n",
       "\n",
       "   First Tooltip                       Indicator_y  Age (years)  \n",
       "0          37.22  Life expectancy at birth (years)        59.94  \n",
       "1          83.07  Life expectancy at birth (years)        75.85  \n",
       "2          89.47  Life expectancy at birth (years)        73.12  \n",
       "3          83.24  Life expectancy at birth (years)        69.03  \n",
       "4          33.44  Life expectancy at birth (years)        70.29  "
      ]
     },
     "execution_count": 83,
     "metadata": {},
     "output_type": "execute_result"
    }
   ],
   "source": [
    "columns_to_drop = ['Period_x', 'Dim1', 'Period_y', 'Gender']\n",
    "merged_data_2010.drop(columns = columns_to_drop, inplace = True)\n",
    "merged_data_2010.head()"
   ]
  },
  {
   "cell_type": "code",
   "execution_count": 84,
   "id": "43d8f7bd-c9e8-4bf3-b2cc-e01740cb8b37",
   "metadata": {},
   "outputs": [],
   "source": [
    "#this is our merged dataframe"
   ]
  },
  {
   "cell_type": "code",
   "execution_count": 85,
   "id": "d06340f1-5a62-4fe8-8379-97c5f6156d0e",
   "metadata": {},
   "outputs": [],
   "source": [
    "import matplotlib.pyplot as plt"
   ]
  },
  {
   "cell_type": "code",
   "execution_count": 86,
   "id": "8c04de63-f95d-4140-88e5-d310af2ca66b",
   "metadata": {},
   "outputs": [
    {
     "data": {
      "image/png": "[encoded data removed]",
      "text/plain": [
       "<Figure size 432x288 with 1 Axes>"
      ]
     },
     "metadata": {
      "needs_background": "light"
     },
     "output_type": "display_data"
    }
   ],
   "source": [
    "x = [37.22,83.07,89.47,83.24,33.44,88.47,79.4,6.93,79.43,25.15,97.11,9.53,6.1,65.46,8.91,16.51,15.55,83.78,18.81,85.15,4.27,54.1,80.55,80.95,90.29,24.35,23.74,7.32,17.16,6.29,77.16,24.75,83.9,63.43,90.35,66.36,89.16,1.96,1.15,44.52,12.02,70.92,11.88,42.02,54.7,8.98,59.07,86.99,3.27,87.2,41.92,97.72,13.12,23.27,\n",
    "67.83,72.39,9.88,89.44,89.54,88.85,13.31,24.99,85.35,48.13,13.2]\n",
    "y = [59.94,75.85,73.12,69.03,70.29,75.88,73.39,60.47,71.01,70.34,76.19,58.59,58.6,67.22,56.58,48.51,64.98,79.56,56.62,77.65,57.51,73.17,75.02,70.2,74.5,59.65,47.43,62.42,58.07,55.43,64.77,31.28,71.15,69.26,70.24,75.77,69.17,47.38,60.7,62.79,56.8,65.05,53.48,60.94,69.18,58.95,62.64,68.81,64.44,75.2,68.24,74.2,54.74,66.56,71.83,68.01,59.33,72.12,76.05,67.31,59.67,64.52,72.72,67.7,56.67]\n",
    "\n",
    "plt.scatter(x , y) \n",
    "plt.title('The variation of life expectancy by country in relation access to handwashing facilities')\n",
    "plt.xlabel('% households with access to handwashing facilities')\n",
    "plt.ylabel('Life expectancy at birth in years')\n",
    "\n",
    "plt.show()"
   ]
  },
  {
   "cell_type": "code",
   "execution_count": null,
   "id": "61d707d6-8bb8-4232-80af-70b5a05b81ab",
   "metadata": {},
   "outputs": [],
   "source": [
    "#this is a workaround to define the X and y values- I had great difficulty trying to use the column names to define the values to use.\n",
    "#see bar chart below which makes use of dataframes!"
   ]
  },
  {
   "cell_type": "code",
   "execution_count": 160,
   "id": "8dc24c76-da3d-4095-8ef0-79167801a1af",
   "metadata": {},
   "outputs": [
    {
     "data": {
      "image/png": "[encoded data removed]",
      "text/plain": [
       "<Figure size 432x288 with 1 Axes>"
      ]
     },
     "metadata": {
      "needs_background": "light"
     },
     "output_type": "display_data"
    },
    {
     "data": {
      "text/plain": [
       "<Figure size 432x288 with 0 Axes>"
      ]
     },
     "metadata": {},
     "output_type": "display_data"
    }
   ],
   "source": [
    "x = [37.22,83.07,89.47,83.24,33.44,88.47,79.4,6.93,79.43,25.15,97.11,9.53,6.1,65.46,8.91,16.51,15.55,83.78,18.81,85.15,4.27,54.1,80.55,80.95,90.29,24.35,23.74,7.32,17.16,6.29,77.16,24.75,83.9,63.43,90.35,66.36,89.16,1.96,1.15,44.52,12.02,70.92,11.88,42.02,54.7,8.98,59.07,86.99,3.27,87.2,41.92,97.72,13.12,23.27,\n",
    "67.83,72.39,9.88,89.44,89.54,88.85,13.31,24.99,85.35,48.13,13.2]\n",
    "y = [59.94,75.85,73.12,69.03,70.29,75.88,73.39,60.47,71.01,70.34,76.19,58.59,58.6,67.22,56.58,48.51,64.98,79.56,56.62,77.65,57.51,73.17,75.02,70.2,74.5,59.65,47.43,62.42,58.07,55.43,64.77,31.28,71.15,69.26,70.24,75.77,69.17,47.38,60.7,62.79,56.8,65.05,53.48,60.94,69.18,58.95,62.64,68.81,64.44,75.2,68.24,74.2,54.74,66.56,71.83,68.01,59.33,72.12,76.05,67.31,59.67,64.52,72.72,67.7,56.67]\n",
    "\n",
    "plt.scatter(x , y, edgecolor='black', linewidth=1, alpha=0.75) \n",
    "plt.title('Life expectancy by country (years) in relation access to handwashing facilities (% of households) for the year 2010')\n",
    "plt.xlabel('% households with access to handwashing facilities')\n",
    "plt.ylabel('Life expectancy at birth in years')\n",
    "\n",
    "z = np.polyfit(x, y, 1)\n",
    "p = np.poly1d(z)\n",
    "plt.plot(x,p(x),\"r--\")\n",
    "\n",
    "plt.show()\n",
    "plt.savefig(\"scatterplot1.png\")"
   ]
  },
  {
   "cell_type": "code",
   "execution_count": 161,
   "id": "561b30cf-28a8-42f0-aca8-f3cd38271602",
   "metadata": {},
   "outputs": [],
   "source": [
    "#scatter plot with added trendline showing positive correlation between hand washing facilities and Life expectancy"
   ]
  },
  {
   "cell_type": "code",
   "execution_count": 162,
   "id": "dddfa6bd-1b7b-405a-a770-a8aa97c9e85e",
   "metadata": {},
   "outputs": [
    {
     "data": {
      "text/html": [
       "<div>\n",
       "<style scoped>\n",
       "    .dataframe tbody tr th:only-of-type {\n",
       "        vertical-align: middle;\n",
       "    }\n",
       "\n",
       "    .dataframe tbody tr th {\n",
       "        vertical-align: top;\n",
       "    }\n",
       "\n",
       "    .dataframe thead th {\n",
       "        text-align: right;\n",
       "    }\n",
       "</style>\n",
       "<table border=\"1\" class=\"dataframe\">\n",
       "  <thead>\n",
       "    <tr style=\"text-align: right;\">\n",
       "      <th></th>\n",
       "      <th>First Tooltip</th>\n",
       "      <th>Age (years)</th>\n",
       "    </tr>\n",
       "  </thead>\n",
       "  <tbody>\n",
       "    <tr>\n",
       "      <th>count</th>\n",
       "      <td>65.000000</td>\n",
       "      <td>65.000000</td>\n",
       "    </tr>\n",
       "    <tr>\n",
       "      <th>mean</th>\n",
       "      <td>48.622769</td>\n",
       "      <td>65.152154</td>\n",
       "    </tr>\n",
       "    <tr>\n",
       "      <th>std</th>\n",
       "      <td>33.525902</td>\n",
       "      <td>8.894980</td>\n",
       "    </tr>\n",
       "    <tr>\n",
       "      <th>min</th>\n",
       "      <td>1.150000</td>\n",
       "      <td>31.280000</td>\n",
       "    </tr>\n",
       "    <tr>\n",
       "      <th>25%</th>\n",
       "      <td>13.310000</td>\n",
       "      <td>59.330000</td>\n",
       "    </tr>\n",
       "    <tr>\n",
       "      <th>50%</th>\n",
       "      <td>48.130000</td>\n",
       "      <td>67.220000</td>\n",
       "    </tr>\n",
       "    <tr>\n",
       "      <th>75%</th>\n",
       "      <td>83.240000</td>\n",
       "      <td>71.830000</td>\n",
       "    </tr>\n",
       "    <tr>\n",
       "      <th>max</th>\n",
       "      <td>97.720000</td>\n",
       "      <td>79.560000</td>\n",
       "    </tr>\n",
       "  </tbody>\n",
       "</table>\n",
       "</div>"
      ],
      "text/plain": [
       "       First Tooltip  Age (years)\n",
       "count      65.000000    65.000000\n",
       "mean       48.622769    65.152154\n",
       "std        33.525902     8.894980\n",
       "min         1.150000    31.280000\n",
       "25%        13.310000    59.330000\n",
       "50%        48.130000    67.220000\n",
       "75%        83.240000    71.830000\n",
       "max        97.720000    79.560000"
      ]
     },
     "execution_count": 162,
     "metadata": {},
     "output_type": "execute_result"
    }
   ],
   "source": [
    "merged_data_2010.describe()"
   ]
  },
  {
   "cell_type": "code",
   "execution_count": 163,
   "id": "018de83b-7ff8-4292-9705-1737bf1696ed",
   "metadata": {},
   "outputs": [],
   "source": [
    "#mean life expectancy at birth is 65.15 years\n",
    "#mean % of households with access to adequate handwashing facilities is 48.6%"
   ]
  },
  {
   "cell_type": "code",
   "execution_count": 164,
   "id": "7813a33c-9e81-4fab-9bcc-29a3b9eb090d",
   "metadata": {},
   "outputs": [],
   "source": [
    "import seaborn as sns\n",
    "import matplotlib.pyplot as plt"
   ]
  },
  {
   "cell_type": "code",
   "execution_count": 165,
   "id": "0dd9ac7c-3227-4cda-8649-df23d8c57587",
   "metadata": {},
   "outputs": [
    {
     "data": {
      "text/plain": [
       "<BarContainer object of 65 artists>"
      ]
     },
     "execution_count": 165,
     "metadata": {},
     "output_type": "execute_result"
    },
    {
     "data": {
      "image/png": "[encoded data removed]",
      "text/plain": [
       "<Figure size 432x288 with 1 Axes>"
      ]
     },
     "metadata": {
      "needs_background": "light"
     },
     "output_type": "display_data"
    }
   ],
   "source": [
    "x = ['Afghanistan','Algeria','Armenia','Azerbaijan','Bangladesh','Barbados','Belize','Benin','Bhutan','Bolivia (Plurinational State of)','Bosnia and Herzegovina','Burkina Faso','Burundi','Cambodia','Cameroon','Central African Republic','Comoros','Costa Rica','Côte d’Ivoire','Cuba','Democratic Republic of the Congo','Dominican Republic','Ecuador','Egypt','El Salvador','Equatorial Guinea','Eswatini','Gambia','Guinea','Guinea-Bissau','Guyana','Haiti','Honduras','Indonesia','Iraq','Jamaica','Kyrgyzstan','Lesotho','Liberia','Madagascar','Malawi','Mongolia','Mozambique','Namibia','Nepal','Niger','Pakistan','Republic of Moldova','Rwanda','Saint Lucia','Sao Tome and Principe','Serbia','Sierra Leone','Sudan','Suriname','Tajikistan','Togo','Trinidad and Tobago','Tunisia','Turkmenistan','Uganda','Vanuatu','Viet Nam','Yemen','Zambia']\n",
    "y = [59.94,75.85,73.12,69.03,70.29,75.88,73.39,60.47,71.01,70.34,76.19,58.59,58.6,67.22,56.58,48.51,64.98,79.56,56.62,77.65,57.51,73.17,75.02,70.2,74.5,59.65,47.43,62.42,58.07,55.43,64.77,31.28,71.15,69.26,70.24,75.77,69.17,47.38,60.7,62.79,56.8,65.05,53.48,60.94,69.18,58.95,62.64,68.81,64.44,75.2,68.24,74.2,54.74,66.56,71.83,68.01,59.33,72.12,76.05,67.31,59.67,64.52,72.72,67.7,56.67]\n",
    "\n",
    "plt.bar(x , y, edgecolor='black', linewidth=1, alpha=0.75) \n",
    "plt.title('Life expectancy at birth in 2010 by country ')\n",
    "plt.xlabel('Country')\n",
    "plt.xticks(rotation=90)\n",
    "plt.ylabel('Life expectancy at birth in years')\n",
    "plt.bar(x, height = 1, width = 0.6\n",
    "       )"
   ]
  },
  {
   "cell_type": "code",
   "execution_count": 166,
   "id": "fb9f3af2-3306-4b8f-994d-cec27f33dff4",
   "metadata": {},
   "outputs": [],
   "source": [
    "Country = ['Afghanistan','Algeria','Armenia','Azerbaijan','Bangladesh','Barbados','Belize','Benin','Bhutan','Bolivia (Plurinational State of)','Bosnia and Herzegovina','Burkina Faso','Burundi','Cambodia','Cameroon','Central African Republic','Comoros','Costa Rica','Côte d’Ivoire','Cuba','Democratic Republic of the Congo','Dominican Republic','Ecuador','Egypt','El Salvador','Equatorial Guinea','Eswatini','Gambia','Guinea','Guinea-Bissau','Guyana','Haiti','Honduras','Indonesia','Iraq','Jamaica','Kyrgyzstan','Lesotho','Liberia','Madagascar','Malawi','Mongolia','Mozambique','Namibia','Nepal','Niger','Pakistan','Republic of Moldova','Rwanda','Saint Lucia','Sao Tome and Principe','Serbia','Sierra Leone','Sudan','Suriname','Tajikistan','Togo','Trinidad and Tobago','Tunisia','Turkmenistan','Uganda','Vanuatu','Viet Nam','Yemen','Zambia']\n",
    "Age = [59.94,75.85,73.12,69.03,70.29,75.88,73.39,60.47,71.01,70.34,76.19,58.59,58.6,67.22,56.58,48.51,64.98,79.56,56.62,77.65,57.51,73.17,75.02,70.2,74.5,59.65,47.43,62.42,58.07,55.43,64.77,31.28,71.15,69.26,70.24,75.77,69.17,47.38,60.7,62.79,56.8,65.05,53.48,60.94,69.18,58.95,62.64,68.81,64.44,75.2,68.24,74.2,54.74,66.56,71.83,68.01,59.33,72.12,76.05,67.31,59.67,64.52,72.72,67.7,56.67]\n",
    "\n",
    "df = pd.DataFrame({\"Country\":Country,\n",
    "                  \"Age\":Age})"
   ]
  },
  {
   "cell_type": "code",
   "execution_count": 167,
   "id": "5445962d-cc5e-48b5-91f0-0701874bdda2",
   "metadata": {},
   "outputs": [],
   "source": [
    "#figured out dataframes!"
   ]
  },
  {
   "cell_type": "code",
   "execution_count": 168,
   "id": "fff98cfa-b953-4524-b7da-dba5bc6a1874",
   "metadata": {},
   "outputs": [
    {
     "data": {
      "text/plain": [
       "Text(0.5, 1.0, 'Life expectancy at birth in 2010 by country')"
      ]
     },
     "execution_count": 168,
     "metadata": {},
     "output_type": "execute_result"
    },
    {
     "data": {
      "image/png": "[encoded data removed]",
      "text/plain": [
       "<Figure size 720x432 with 1 Axes>"
      ]
     },
     "metadata": {
      "needs_background": "light"
     },
     "output_type": "display_data"
    }
   ],
   "source": [
    "plt.figure(figsize=(10,6))\n",
    "\n",
    "plt.bar('Country', 'Age',data=df)\n",
    "plt.xlabel(\"Country\", size=15)\n",
    "plt.ylabel(\"Age\", size=15)\n",
    "plt.title(\"Life expectancy at birth in 2010 by country\", size=18)"
   ]
  },
  {
   "cell_type": "code",
   "execution_count": 169,
   "id": "3d357691-9c1b-4f31-9e16-253b867f3d6a",
   "metadata": {},
   "outputs": [],
   "source": [
    "# bar chart would be more informative if countries were listed in ascending life expectancy"
   ]
  },
  {
   "cell_type": "code",
   "execution_count": 170,
   "id": "f1755854-a3bf-4526-9ddd-a2313a5dc7d7",
   "metadata": {},
   "outputs": [],
   "source": [
    "df_sorted= df.sort_values('Age')"
   ]
  },
  {
   "cell_type": "code",
   "execution_count": 172,
   "id": "dafee510-b47c-412b-b726-ff452b5190dd",
   "metadata": {},
   "outputs": [
    {
     "data": {
      "text/plain": [
       "Text(0.5, 1.0, 'Life expectancy at birth in 2010')"
      ]
     },
     "execution_count": 172,
     "metadata": {},
     "output_type": "execute_result"
    },
    {
     "data": {
      "image/png": "[encoded data removed]",
      "text/plain": [
       "<Figure size 720x432 with 1 Axes>"
      ]
     },
     "metadata": {
      "needs_background": "light"
     },
     "output_type": "display_data"
    }
   ],
   "source": [
    "plt.figure(figsize=(10,6))\n",
    "\n",
    "plt.bar('Country', 'Age',data=df_sorted)\n",
    "plt.xlabel(\"Country\", size=15)\n",
    "plt.xticks(rotation=90)\n",
    "plt.ylabel(\"Age\", size=15)\n",
    "plt.title(\"Life expectancy at birth in 2010\", size=18)"
   ]
  },
  {
   "cell_type": "code",
   "execution_count": 173,
   "id": "519580b1-57f8-4b88-a3da-2fd1ee8f205b",
   "metadata": {},
   "outputs": [],
   "source": [
    "Country = ['Afghanistan','Algeria','Armenia','Azerbaijan','Bangladesh','Barbados','Belize','Benin','Bhutan','Bolivia (Plurinational State of)','Bosnia and Herzegovina','Burkina Faso','Burundi','Cambodia','Cameroon','Central African Republic','Comoros','Costa Rica','Côte d’Ivoire','Cuba','Democratic Republic of the Congo','Dominican Republic','Ecuador','Egypt','El Salvador','Equatorial Guinea','Eswatini','Gambia','Guinea','Guinea-Bissau','Guyana','Haiti','Honduras','Indonesia','Iraq','Jamaica','Kyrgyzstan','Lesotho','Liberia','Madagascar','Malawi','Mongolia','Mozambique','Namibia','Nepal','Niger','Pakistan','Republic of Moldova','Rwanda','Saint Lucia','Sao Tome and Principe','Serbia','Sierra Leone','Sudan','Suriname','Tajikistan','Togo','Trinidad and Tobago','Tunisia','Turkmenistan','Uganda','Vanuatu','Viet Nam','Yemen','Zambia']\n",
    "Handwashing = [37.22,83.07,89.47,83.24,33.44,88.47,79.4,6.93,79.43,25.15,97.11,9.53,6.1,65.46,8.91,16.51,15.55,83.78,18.81,85.15,4.27,54.1,80.55,80.95,90.29,24.35,23.74,7.32,17.16,6.29,77.16,24.75,83.9,63.43,90.35,66.36,89.16,1.96,1.15,44.52,12.02,70.92,11.88,42.02,54.7,8.98,59.07,86.99,3.27,87.2,41.92,97.72,13.12,23.27,\n",
    "67.83,72.39,9.88,89.44,89.54,88.85,13.31,24.99,85.35,48.13,13.2]\n",
    "\n",
    "df = pd.DataFrame({\"Country\":Country,\n",
    "                  \"Handwashing\":Handwashing})"
   ]
  },
  {
   "cell_type": "code",
   "execution_count": 174,
   "id": "8d919c85-9ee4-4f8a-b3e6-f6a0dd44dd75",
   "metadata": {},
   "outputs": [],
   "source": [
    "df_sorted= df.sort_values('Handwashing')"
   ]
  },
  {
   "cell_type": "code",
   "execution_count": 175,
   "id": "3347338f-6790-472b-a99a-c21b04b94a11",
   "metadata": {},
   "outputs": [
    {
     "data": {
      "text/plain": [
       "Text(0.5, 1.0, 'Households with adequate handwashing facilities in 2010')"
      ]
     },
     "execution_count": 175,
     "metadata": {},
     "output_type": "execute_result"
    },
    {
     "data": {
      "image/png": "[encoded data removed]",
      "text/plain": [
       "<Figure size 720x432 with 1 Axes>"
      ]
     },
     "metadata": {
      "needs_background": "light"
     },
     "output_type": "display_data"
    }
   ],
   "source": [
    "plt.figure(figsize=(10,6))\n",
    "\n",
    "plt.bar('Country', 'Handwashing',data=df_sorted)\n",
    "plt.xlabel(\"Country\", size=15)\n",
    "plt.xticks(rotation=90)\n",
    "plt.ylabel(\"Handwashing\", size=15)\n",
    "plt.title(\"Households with adequate handwashing facilities in 2010\", size=18)"
   ]
  },
  {
   "cell_type": "code",
   "execution_count": 176,
   "id": "37f7a9bf-b08f-4650-a0b0-64f92bcf1c48",
   "metadata": {},
   "outputs": [
    {
     "ename": "SyntaxError",
     "evalue": "invalid syntax (<ipython-input-176-c7cb26ebb91d>, line 1)",
     "output_type": "error",
     "traceback": [
      "\u001b[1;36m  File \u001b[1;32m\"<ipython-input-176-c7cb26ebb91d>\"\u001b[1;36m, line \u001b[1;32m1\u001b[0m\n\u001b[1;33m    pip install git+https://github.com/sat28/githubcommit.git\u001b[0m\n\u001b[1;37m        ^\u001b[0m\n\u001b[1;31mSyntaxError\u001b[0m\u001b[1;31m:\u001b[0m invalid syntax\n"
     ]
    }
   ],
   "source": [
    "pip install git+https://github.com/sat28/githubcommit.git\n",
    "jupyter serverextension enable --py githubcommit\n",
    "jupyter nbextension install --py githubcommit --user"
   ]
  },
  {
   "cell_type": "code",
   "execution_count": null,
   "id": "4b741ba3-1626-4f40-9cbc-71a460ae14e4",
   "metadata": {},
   "outputs": [],
   "source": []
  }
 ],
 "metadata": {
  "kernelspec": {
   "display_name": "Python 3",
   "language": "python",
   "name": "python3"
  },
  "language_info": {
   "codemirror_mode": {
    "name": "ipython",
    "version": 3
   },
   "file_extension": ".py",
   "mimetype": "text/x-python",
   "name": "python",
   "nbconvert_exporter": "python",
   "pygments_lexer": "ipython3",
   "version": "3.8.8"
  },
  "toc-autonumbering": true,
  "toc-showcode": true,
  "toc-showmarkdowntxt": true,
  "toc-showtags": false
 },
 "nbformat": 4,
 "nbformat_minor": 5
}
